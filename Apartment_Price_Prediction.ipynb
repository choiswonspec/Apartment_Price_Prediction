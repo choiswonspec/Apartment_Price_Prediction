{
 "cells": [
  {
   "cell_type": "code",
   "execution_count": null,
   "metadata": {},
   "outputs": [],
   "source": [
    "#import os\n",
    "#os.chdir(r\"C:\\Users\\GilseungAhn\\Google 드라이브\\작업\\온라인 강의 머신러닝 성능 향상을 위한 데이터 탐색과 전처리 심화\\데이터\\실습 데이터 - #6\\아파트_실거래가_예측\")"
   ]
  },
  {
   "cell_type": "markdown",
   "metadata": {},
   "source": [
    "# 아파트 실거래가 예측\n",
    "- 목적 : 서울/부산 지역의 아파트 관련 정보를 바탕으로 실거래가를 예측\n",
    "- 데이터 출처 : 직방\n"
   ]
  },
  {
   "cell_type": "markdown",
   "metadata": {},
   "source": [
    "## train.csv 탐색 및 전처리"
   ]
  },
  {
   "cell_type": "markdown",
   "metadata": {},
   "source": [
    "#### train.csv: 모델 학습용 데이터 / test.csv: 모텔 평가용 데이터\n",
    "- apartment_id : 아파트 ID\n",
    "- city, dong, jibun, addr_kr : 아파트 주소 관련 변수 ( 시, 동, 지번, 주소 )\n",
    "- apt : 아파트 단지 이름\n",
    "- exclusive_use_area : 전용면적\n",
    "- year_of_completion : 설립일자\n",
    "- transaction_year_month, transaction_date : 거래 년월 및 날짜\n",
    "- floor : 층\n",
    "- transaction_real_price: 실거래가 (라벨 , train.csv 에만 존재)\n",
    "\n",
    "\n",
    "#### park.csv : 서울/부산 지역의 공원에 대한 정보\n",
    "- apartment_id : 아파트 ID\n",
    "- city, gu, dong : 아파트 주소 관련 변수(시, 구, 동)\n",
    "- park_name : 공원 이름\n",
    "- park_type, park_area : 공원 유형, 공원 면적\n",
    "- park_exercise_facility ~ park_facility_other : 공원에 있는 시설\n",
    "- park_open_year : 공원 개장년도\n",
    "- reference_date : 데이터 기록 일자\n",
    "\n",
    "\n",
    "#### day_care_center.csv : 서울/부산 지역의 어린이집에 대한 정보\n",
    "- city, gu: 어린이집 주소 관련 변수(시,구)\n",
    "- day_care_name: 어린이집 이름\n",
    "- day_care_type: 어린이집 종류\n",
    "- day_care_baby_num ~ CCTV_num: 어린이집의 시설 정보\n",
    "- reference_date : 데이터 기록 일자\n",
    "\n",
    "#### 한국행적구역분류.xlsx\n",
    "- day_care_center에는 동 정보가 없고, train.csv에는 구 정보가 없기 때문에 직접 수집함."
   ]
  },
  {
   "cell_type": "code",
   "execution_count": 1,
   "metadata": {},
   "outputs": [
    {
     "data": {
      "text/html": [
       "<div>\n",
       "<style scoped>\n",
       "    .dataframe tbody tr th:only-of-type {\n",
       "        vertical-align: middle;\n",
       "    }\n",
       "\n",
       "    .dataframe tbody tr th {\n",
       "        vertical-align: top;\n",
       "    }\n",
       "\n",
       "    .dataframe thead th {\n",
       "        text-align: right;\n",
       "    }\n",
       "</style>\n",
       "<table border=\"1\" class=\"dataframe\">\n",
       "  <thead>\n",
       "    <tr style=\"text-align: right;\">\n",
       "      <th></th>\n",
       "      <th>transaction_id</th>\n",
       "      <th>apartment_id</th>\n",
       "      <th>city</th>\n",
       "      <th>dong</th>\n",
       "      <th>jibun</th>\n",
       "      <th>apt</th>\n",
       "      <th>addr_kr</th>\n",
       "      <th>exclusive_use_area</th>\n",
       "      <th>year_of_completion</th>\n",
       "      <th>transaction_year_month</th>\n",
       "      <th>transaction_date</th>\n",
       "      <th>floor</th>\n",
       "      <th>transaction_real_price</th>\n",
       "    </tr>\n",
       "  </thead>\n",
       "  <tbody>\n",
       "    <tr>\n",
       "      <th>0</th>\n",
       "      <td>10923</td>\n",
       "      <td>1878</td>\n",
       "      <td>서울특별시</td>\n",
       "      <td>신당동</td>\n",
       "      <td>844</td>\n",
       "      <td>남산타운</td>\n",
       "      <td>신당동 844 남산타운</td>\n",
       "      <td>84.88</td>\n",
       "      <td>2002</td>\n",
       "      <td>201601</td>\n",
       "      <td>1~10</td>\n",
       "      <td>3</td>\n",
       "      <td>52000</td>\n",
       "    </tr>\n",
       "    <tr>\n",
       "      <th>1</th>\n",
       "      <td>10924</td>\n",
       "      <td>1878</td>\n",
       "      <td>서울특별시</td>\n",
       "      <td>신당동</td>\n",
       "      <td>844</td>\n",
       "      <td>남산타운</td>\n",
       "      <td>신당동 844 남산타운</td>\n",
       "      <td>84.88</td>\n",
       "      <td>2002</td>\n",
       "      <td>201601</td>\n",
       "      <td>1~10</td>\n",
       "      <td>10</td>\n",
       "      <td>58000</td>\n",
       "    </tr>\n",
       "    <tr>\n",
       "      <th>2</th>\n",
       "      <td>10927</td>\n",
       "      <td>1878</td>\n",
       "      <td>서울특별시</td>\n",
       "      <td>신당동</td>\n",
       "      <td>844</td>\n",
       "      <td>남산타운</td>\n",
       "      <td>신당동 844 남산타운</td>\n",
       "      <td>114.88</td>\n",
       "      <td>2002</td>\n",
       "      <td>201601</td>\n",
       "      <td>1~10</td>\n",
       "      <td>11</td>\n",
       "      <td>91500</td>\n",
       "    </tr>\n",
       "    <tr>\n",
       "      <th>3</th>\n",
       "      <td>10928</td>\n",
       "      <td>1878</td>\n",
       "      <td>서울특별시</td>\n",
       "      <td>신당동</td>\n",
       "      <td>844</td>\n",
       "      <td>남산타운</td>\n",
       "      <td>신당동 844 남산타운</td>\n",
       "      <td>114.88</td>\n",
       "      <td>2002</td>\n",
       "      <td>201601</td>\n",
       "      <td>11~20</td>\n",
       "      <td>13</td>\n",
       "      <td>72000</td>\n",
       "    </tr>\n",
       "    <tr>\n",
       "      <th>4</th>\n",
       "      <td>10930</td>\n",
       "      <td>1878</td>\n",
       "      <td>서울특별시</td>\n",
       "      <td>신당동</td>\n",
       "      <td>844</td>\n",
       "      <td>남산타운</td>\n",
       "      <td>신당동 844 남산타운</td>\n",
       "      <td>84.88</td>\n",
       "      <td>2002</td>\n",
       "      <td>201601</td>\n",
       "      <td>11~20</td>\n",
       "      <td>6</td>\n",
       "      <td>68300</td>\n",
       "    </tr>\n",
       "  </tbody>\n",
       "</table>\n",
       "</div>"
      ],
      "text/plain": [
       "   transaction_id  apartment_id   city dong jibun   apt       addr_kr  \\\n",
       "0           10923          1878  서울특별시  신당동   844  남산타운  신당동 844 남산타운   \n",
       "1           10924          1878  서울특별시  신당동   844  남산타운  신당동 844 남산타운   \n",
       "2           10927          1878  서울특별시  신당동   844  남산타운  신당동 844 남산타운   \n",
       "3           10928          1878  서울특별시  신당동   844  남산타운  신당동 844 남산타운   \n",
       "4           10930          1878  서울특별시  신당동   844  남산타운  신당동 844 남산타운   \n",
       "\n",
       "   exclusive_use_area  year_of_completion  transaction_year_month  \\\n",
       "0               84.88                2002                  201601   \n",
       "1               84.88                2002                  201601   \n",
       "2              114.88                2002                  201601   \n",
       "3              114.88                2002                  201601   \n",
       "4               84.88                2002                  201601   \n",
       "\n",
       "  transaction_date  floor  transaction_real_price  \n",
       "0             1~10      3                   52000  \n",
       "1             1~10     10                   58000  \n",
       "2             1~10     11                   91500  \n",
       "3            11~20     13                   72000  \n",
       "4            11~20      6                   68300  "
      ]
     },
     "execution_count": 1,
     "metadata": {},
     "output_type": "execute_result"
    }
   ],
   "source": [
    "import pandas as pd\n",
    "df = pd.read_csv(\"sampled_train.csv\", engine = \"python\", encoding = \"utf8\")\n",
    "df.head()"
   ]
  },
  {
   "cell_type": "markdown",
   "metadata": {},
   "source": [
    "### 구 변수 추가\n",
    "\n",
    "- 시와 동만 있는 데이터와 구만 있는 데이터의 병합이 어렵기 때문에 한국행정구역분류.xlsx 데이터를 활용하여 시와 동을 기준으로 데이터를 병합하는 방식으로 구 변수를 부착한다."
   ]
  },
  {
   "cell_type": "code",
   "execution_count": 2,
   "metadata": {
    "scrolled": true
   },
   "outputs": [
    {
     "data": {
      "text/html": [
       "<div>\n",
       "<style scoped>\n",
       "    .dataframe tbody tr th:only-of-type {\n",
       "        vertical-align: middle;\n",
       "    }\n",
       "\n",
       "    .dataframe tbody tr th {\n",
       "        vertical-align: top;\n",
       "    }\n",
       "\n",
       "    .dataframe thead th {\n",
       "        text-align: right;\n",
       "    }\n",
       "</style>\n",
       "<table border=\"1\" class=\"dataframe\">\n",
       "  <thead>\n",
       "    <tr style=\"text-align: right;\">\n",
       "      <th></th>\n",
       "      <th>시도</th>\n",
       "      <th>시군구</th>\n",
       "      <th>행정구역명</th>\n",
       "      <th>행정동(행정기관명)</th>\n",
       "      <th>법정동</th>\n",
       "      <th>행정구역코드</th>\n",
       "      <th>행정기관코드</th>\n",
       "      <th>행정기관 생성일</th>\n",
       "      <th>법정동코드</th>\n",
       "      <th>관할지역</th>\n",
       "      <th>행정동 영문명칭</th>\n",
       "      <th>비고</th>\n",
       "    </tr>\n",
       "  </thead>\n",
       "  <tbody>\n",
       "    <tr>\n",
       "      <th>0</th>\n",
       "      <td>서울특별시</td>\n",
       "      <td>서울특별시</td>\n",
       "      <td>서울특별시</td>\n",
       "      <td>서울특별시</td>\n",
       "      <td>서울특별시</td>\n",
       "      <td>11.0</td>\n",
       "      <td>1100000000</td>\n",
       "      <td>19880423</td>\n",
       "      <td>1100000000</td>\n",
       "      <td>NaN</td>\n",
       "      <td>Seoul</td>\n",
       "      <td>NaN</td>\n",
       "    </tr>\n",
       "    <tr>\n",
       "      <th>1</th>\n",
       "      <td>서울특별시</td>\n",
       "      <td>종로구</td>\n",
       "      <td>종로구</td>\n",
       "      <td>종로구</td>\n",
       "      <td>종로구</td>\n",
       "      <td>11010.0</td>\n",
       "      <td>1111000000</td>\n",
       "      <td>19880423</td>\n",
       "      <td>1111000000</td>\n",
       "      <td>NaN</td>\n",
       "      <td>Jongno-gu</td>\n",
       "      <td>NaN</td>\n",
       "    </tr>\n",
       "    <tr>\n",
       "      <th>2</th>\n",
       "      <td>서울특별시</td>\n",
       "      <td>종로구</td>\n",
       "      <td>청운효자동</td>\n",
       "      <td>청운효자동</td>\n",
       "      <td>청운동</td>\n",
       "      <td>1101072.0</td>\n",
       "      <td>1111051500</td>\n",
       "      <td>20081101</td>\n",
       "      <td>1111010100</td>\n",
       "      <td>NaN</td>\n",
       "      <td>Cheongunhyoja-dong</td>\n",
       "      <td>NaN</td>\n",
       "    </tr>\n",
       "    <tr>\n",
       "      <th>3</th>\n",
       "      <td>서울특별시</td>\n",
       "      <td>종로구</td>\n",
       "      <td>청운효자동</td>\n",
       "      <td>청운효자동</td>\n",
       "      <td>신교동</td>\n",
       "      <td>1101072.0</td>\n",
       "      <td>1111051500</td>\n",
       "      <td>20081101</td>\n",
       "      <td>1111010200</td>\n",
       "      <td>NaN</td>\n",
       "      <td>Cheongunhyoja-dong</td>\n",
       "      <td>NaN</td>\n",
       "    </tr>\n",
       "    <tr>\n",
       "      <th>4</th>\n",
       "      <td>서울특별시</td>\n",
       "      <td>종로구</td>\n",
       "      <td>청운효자동</td>\n",
       "      <td>청운효자동</td>\n",
       "      <td>궁정동</td>\n",
       "      <td>1101072.0</td>\n",
       "      <td>1111051500</td>\n",
       "      <td>20081101</td>\n",
       "      <td>1111010300</td>\n",
       "      <td>NaN</td>\n",
       "      <td>Cheongunhyoja-dong</td>\n",
       "      <td>NaN</td>\n",
       "    </tr>\n",
       "  </tbody>\n",
       "</table>\n",
       "</div>"
      ],
      "text/plain": [
       "      시도    시군구  행정구역명 행정동(행정기관명)    법정동     행정구역코드      행정기관코드  행정기관 생성일  \\\n",
       "0  서울특별시  서울특별시  서울특별시      서울특별시  서울특별시       11.0  1100000000  19880423   \n",
       "1  서울특별시    종로구    종로구        종로구    종로구    11010.0  1111000000  19880423   \n",
       "2  서울특별시    종로구  청운효자동      청운효자동    청운동  1101072.0  1111051500  20081101   \n",
       "3  서울특별시    종로구  청운효자동      청운효자동    신교동  1101072.0  1111051500  20081101   \n",
       "4  서울특별시    종로구  청운효자동      청운효자동    궁정동  1101072.0  1111051500  20081101   \n",
       "\n",
       "        법정동코드 관할지역            행정동 영문명칭   비고  \n",
       "0  1100000000  NaN               Seoul  NaN  \n",
       "1  1111000000  NaN           Jongno-gu  NaN  \n",
       "2  1111010100  NaN  Cheongunhyoja-dong  NaN  \n",
       "3  1111010200  NaN  Cheongunhyoja-dong  NaN  \n",
       "4  1111010300  NaN  Cheongunhyoja-dong  NaN  "
      ]
     },
     "execution_count": 2,
     "metadata": {},
     "output_type": "execute_result"
    }
   ],
   "source": [
    "# 참조 데이터 불러오기\n",
    "ref_df = pd.read_excel(\"한국행정구역분류.xlsx\",\n",
    "                       sheet_name = \"법정동코드 연계 자료분석용\",\n",
    "                       header = 1)\n",
    "\n",
    "ref_df.head()"
   ]
  },
  {
   "cell_type": "markdown",
   "metadata": {},
   "source": [
    "#### 변수 부착시에 자주 발생하는 이슈 및 해결 방안\n",
    "- 데이터에 있는 키의 상태 공간이 참조 데이터에 있는 키의 상태 공간에 완전히 포함되지 않아서, 병합을 했을 때 데이터 크기가 줄어드는 경우가 존재\n",
    "- 따라서 키 변수의 상태 공간이 겹쳐지는지를 np.isin 함수를 사용하여 확인해야 함."
   ]
  },
  {
   "cell_type": "code",
   "execution_count": 3,
   "metadata": {},
   "outputs": [
    {
     "data": {
      "text/html": [
       "<div>\n",
       "<style scoped>\n",
       "    .dataframe tbody tr th:only-of-type {\n",
       "        vertical-align: middle;\n",
       "    }\n",
       "\n",
       "    .dataframe tbody tr th {\n",
       "        vertical-align: top;\n",
       "    }\n",
       "\n",
       "    .dataframe thead th {\n",
       "        text-align: right;\n",
       "    }\n",
       "</style>\n",
       "<table border=\"1\" class=\"dataframe\">\n",
       "  <thead>\n",
       "    <tr style=\"text-align: right;\">\n",
       "      <th></th>\n",
       "      <th>시도</th>\n",
       "      <th>시군구</th>\n",
       "      <th>법정동</th>\n",
       "    </tr>\n",
       "  </thead>\n",
       "  <tbody>\n",
       "    <tr>\n",
       "      <th>0</th>\n",
       "      <td>서울특별시</td>\n",
       "      <td>서울특별시</td>\n",
       "      <td>서울특별시</td>\n",
       "    </tr>\n",
       "    <tr>\n",
       "      <th>1</th>\n",
       "      <td>서울특별시</td>\n",
       "      <td>종로구</td>\n",
       "      <td>종로구</td>\n",
       "    </tr>\n",
       "    <tr>\n",
       "      <th>2</th>\n",
       "      <td>서울특별시</td>\n",
       "      <td>종로구</td>\n",
       "      <td>청운동</td>\n",
       "    </tr>\n",
       "    <tr>\n",
       "      <th>3</th>\n",
       "      <td>서울특별시</td>\n",
       "      <td>종로구</td>\n",
       "      <td>신교동</td>\n",
       "    </tr>\n",
       "    <tr>\n",
       "      <th>4</th>\n",
       "      <td>서울특별시</td>\n",
       "      <td>종로구</td>\n",
       "      <td>궁정동</td>\n",
       "    </tr>\n",
       "  </tbody>\n",
       "</table>\n",
       "</div>"
      ],
      "text/plain": [
       "      시도    시군구    법정동\n",
       "0  서울특별시  서울특별시  서울특별시\n",
       "1  서울특별시    종로구    종로구\n",
       "2  서울특별시    종로구    청운동\n",
       "3  서울특별시    종로구    신교동\n",
       "4  서울특별시    종로구    궁정동"
      ]
     },
     "execution_count": 3,
     "metadata": {},
     "output_type": "execute_result"
    }
   ],
   "source": [
    "# ref_df 필터링\n",
    "ref_df = ref_df.loc[ref_df['시도'].isin(['서울특별시', '부산광역시'])] # 서울특별시와 부산광역시 레코드만 가져옴\n",
    "ref_df = ref_df[['시도', '시군구', '법정동']]\n",
    "ref_df.head()"
   ]
  },
  {
   "cell_type": "code",
   "execution_count": 4,
   "metadata": {},
   "outputs": [],
   "source": [
    "# ref_df에 포함되어 있는 시도-읍면동과 df에 포함되어 있는 시도-읍면동이 일치하지 않는 경우를 확인해야 함\n",
    "ref_df_loc = ref_df['시도'] + '-' + ref_df['법정동']\n",
    "df_loc = (df['city'] + '-' + df['dong']).unique()"
   ]
  },
  {
   "cell_type": "code",
   "execution_count": 5,
   "metadata": {},
   "outputs": [
    {
     "data": {
      "text/plain": [
       "array([ True,  True,  True,  True,  True,  True,  True,  True,  True,\n",
       "        True,  True,  True,  True,  True,  True,  True,  True,  True,\n",
       "        True,  True,  True,  True,  True,  True,  True,  True,  True,\n",
       "        True,  True,  True,  True,  True,  True,  True,  True,  True,\n",
       "        True,  True,  True,  True,  True,  True,  True,  True,  True,\n",
       "        True,  True,  True,  True,  True,  True,  True,  True,  True,\n",
       "        True,  True,  True,  True,  True,  True, False])"
      ]
     },
     "execution_count": 5,
     "metadata": {},
     "output_type": "execute_result"
    }
   ],
   "source": [
    "import numpy as np\n",
    "np.isin(df_loc, ref_df_loc) # df_loc가 ref_df_loc에 포함되지 않는 경우가 다수 있음을 확인"
   ]
  },
  {
   "cell_type": "code",
   "execution_count": 6,
   "metadata": {},
   "outputs": [
    {
     "data": {
      "text/plain": [
       "array(['부산광역시-정관읍 용수리'], dtype=object)"
      ]
     },
     "execution_count": 6,
     "metadata": {},
     "output_type": "execute_result"
    }
   ],
   "source": [
    "# 포함되지 않는 동 목록 확인: 전부 부산광역시이며 읍 단위인 경우에 이러한 문제가 발생함을 확인\n",
    "df_loc[~np.isin(df_loc, ref_df_loc)]"
   ]
  },
  {
   "cell_type": "code",
   "execution_count": 7,
   "metadata": {},
   "outputs": [
    {
     "data": {
      "text/html": [
       "<div>\n",
       "<style scoped>\n",
       "    .dataframe tbody tr th:only-of-type {\n",
       "        vertical-align: middle;\n",
       "    }\n",
       "\n",
       "    .dataframe tbody tr th {\n",
       "        vertical-align: top;\n",
       "    }\n",
       "\n",
       "    .dataframe thead th {\n",
       "        text-align: right;\n",
       "    }\n",
       "</style>\n",
       "<table border=\"1\" class=\"dataframe\">\n",
       "  <thead>\n",
       "    <tr style=\"text-align: right;\">\n",
       "      <th></th>\n",
       "      <th>시도</th>\n",
       "      <th>시군구</th>\n",
       "      <th>법정동</th>\n",
       "    </tr>\n",
       "  </thead>\n",
       "  <tbody>\n",
       "    <tr>\n",
       "      <th>275</th>\n",
       "      <td>서울특별시</td>\n",
       "      <td>동대문구</td>\n",
       "      <td>장안동</td>\n",
       "    </tr>\n",
       "    <tr>\n",
       "      <th>276</th>\n",
       "      <td>서울특별시</td>\n",
       "      <td>동대문구</td>\n",
       "      <td>장안동</td>\n",
       "    </tr>\n",
       "    <tr>\n",
       "      <th>1086</th>\n",
       "      <td>부산광역시</td>\n",
       "      <td>기장군</td>\n",
       "      <td>장안읍</td>\n",
       "    </tr>\n",
       "    <tr>\n",
       "      <th>1091</th>\n",
       "      <td>부산광역시</td>\n",
       "      <td>기장군</td>\n",
       "      <td>장안리</td>\n",
       "    </tr>\n",
       "  </tbody>\n",
       "</table>\n",
       "</div>"
      ],
      "text/plain": [
       "         시도   시군구  법정동\n",
       "275   서울특별시  동대문구  장안동\n",
       "276   서울특별시  동대문구  장안동\n",
       "1086  부산광역시   기장군  장안읍\n",
       "1091  부산광역시   기장군  장안리"
      ]
     },
     "execution_count": 7,
     "metadata": {},
     "output_type": "execute_result"
    }
   ],
   "source": [
    "# 장안읍 예시: \n",
    "ref_df.loc[ref_df['법정동'].str.contains('장안')]"
   ]
  },
  {
   "cell_type": "code",
   "execution_count": 8,
   "metadata": {},
   "outputs": [],
   "source": [
    "# 시도와 법정동이 완전히 똑같은 행이 있어, 이를 제거함\n",
    "ref_df = ref_df.drop_duplicates(subset = ['시도', '법정동'])"
   ]
  },
  {
   "cell_type": "code",
   "execution_count": 9,
   "metadata": {},
   "outputs": [
    {
     "data": {
      "text/plain": [
       "array([], dtype=object)"
      ]
     },
     "execution_count": 9,
     "metadata": {},
     "output_type": "execute_result"
    }
   ],
   "source": [
    "# 결론: df의 dong에 리가 붙어있으면 제거해야 함\n",
    "df['dong'] = df['dong'].str.split(' ', expand = True).iloc[:, 0]\n",
    "\n",
    "# 재확인: 정상적으로 작동함을 확인\n",
    "df_loc = (df['city'] + '-' + df['dong']).unique()\n",
    "df_loc[~np.isin(df_loc, ref_df_loc)]"
   ]
  },
  {
   "cell_type": "code",
   "execution_count": 10,
   "metadata": {},
   "outputs": [],
   "source": [
    "# df와 ref_df 병합\n",
    "df = pd.merge(df, ref_df, left_on = ['city', 'dong'], right_on = ['시도', '법정동'])\n",
    "\n",
    "# ref_df에 있던 불필요한 변수 제거\n",
    "df.drop(['시도', '법정동'], axis = 1, inplace = True)"
   ]
  },
  {
   "cell_type": "markdown",
   "metadata": {},
   "source": [
    "#### 불필요한 변수 제거\n",
    "- 사용하지 않는 변수인 transaction_id 와 addr_kr 변수는 미리 삭제하여, 메모리 부담을 줄인다.\n",
    "- 모델에 직접 사용되진 않는 다른 변수(apartment_id 등)는 조건부 통계를 사용하여 부착할 예정\n"
   ]
  },
  {
   "cell_type": "code",
   "execution_count": 11,
   "metadata": {},
   "outputs": [],
   "source": [
    "df.drop(['transaction_id', 'addr_kr'], axis = 1, inplace = True) # transaction_id는 인덱스와 동일하므로 삭제해도 무방"
   ]
  },
  {
   "cell_type": "code",
   "execution_count": 12,
   "metadata": {},
   "outputs": [
    {
     "data": {
      "text/plain": [
       "10939    1031\n",
       "703       947\n",
       "4080      685\n",
       "9436      656\n",
       "4018      632\n",
       "8031      601\n",
       "729       595\n",
       "2944      590\n",
       "6467      570\n",
       "12432     526\n",
       "Name: apartment_id, dtype: int64"
      ]
     },
     "execution_count": 12,
     "metadata": {},
     "output_type": "execute_result"
    }
   ],
   "source": [
    "# apartment_id는 id지만 어느정도 사용이 가능할 것이라 보임 (완전히 유니크하지 않으므로)\n",
    "df['apartment_id'].value_counts().head(10)"
   ]
  },
  {
   "cell_type": "markdown",
   "metadata": {},
   "source": [
    "#### 시간 관련 변수 추출 및 변환\n",
    "- 아파트가 건축된지 얼마나 되었는지를 나타내는 변수 age를 브로드캐스팅 개념을 활용하여 생ㅅ어\n",
    "- transaction_year_month 변수의 타입을 string으로 바꾼 후, str accessor를 사용하여 연도를 추출\n"
   ]
  },
  {
   "cell_type": "code",
   "execution_count": 13,
   "metadata": {},
   "outputs": [],
   "source": [
    "# 건축된지 얼마나 되었는지를 나타내는 변수로 변환\n",
    "df['age'] = 2018 - df['year_of_completion']\n",
    "df.drop('year_of_completion', axis = 1, inplace = True)"
   ]
  },
  {
   "cell_type": "code",
   "execution_count": 14,
   "metadata": {},
   "outputs": [],
   "source": [
    "# 거래 년도 추출\n",
    "# str accessor를 사용하기 위해, 타입 변경\n",
    "df['transaction_year_month'] = df['transaction_year_month'].astype(str)\n",
    "\n",
    "df['transaction_year'] = df['transaction_year_month'].str[:4].astype(int)\n",
    "df['transaction_month'] = df['transaction_year_month'].str[4:].astype(int)\n",
    "df.drop('transaction_year_month', axis = 1, inplace = True)"
   ]
  },
  {
   "cell_type": "code",
   "execution_count": 15,
   "metadata": {},
   "outputs": [],
   "source": [
    "# 도시가 둘 뿐이므로 서울특별시인지 나타내는 이진 변수 생성\n",
    "df['Seoul'] = (df['city'] == \"서울특별시\").astype(int)"
   ]
  },
  {
   "cell_type": "markdown",
   "metadata": {},
   "source": [
    "#### fllor 변수 범주 변수 구간화 : 2층과 3층의 가격 차이가 있을까??\n",
    "- 아파트의 층을 나타내는 floor 변수는 이론적으로는 연속형 변수이지만, 범주형 변수로 간주하는 것이 적절함(2층과 3층 아파트의 가격 차이가 있을까?)\n",
    "- 다만 범주형 변수라고 하기에는 상태 공간의 크기가 커서 그룹화를 해야 함\n",
    "- 층에 따른 실거래가 평균을 나타내는 그래프를 통해 그룹 기준을 확인\n",
    "1. 상태 공간의 크기가 작으면 박스 플롯을 그리는 것이 더 바람직함\n",
    "2. 정교한 차이를 검정하고 싶으면, 일원분산분석의 사후 검정을 통해 군집화를 하는 것이 좋음\n",
    "\n",
    "\n",
    "- 그룹 기준을 확인한 뒤, 변수를 구간화하여 각 구간에 속하는 데이터에 대해, 층에 따른 실거래가의 박스플롯을 그려서 군집을 세분화함.(따라서 이전 단계에서 그룹화를 할 때, 여유있게 나누는 것이 좋음)"
   ]
  },
  {
   "cell_type": "code",
   "execution_count": 16,
   "metadata": {},
   "outputs": [
    {
     "data": {
      "text/plain": [
       "<AxesSubplot:xlabel='floor'>"
      ]
     },
     "execution_count": 16,
     "metadata": {},
     "output_type": "execute_result"
    },
    {
     "data": {
      "image/png": "[encoded data removed]",
      "text/plain": [
       "<Figure size 1152x432 with 1 Axes>"
      ]
     },
     "metadata": {
      "needs_background": "light"
     },
     "output_type": "display_data"
    }
   ],
   "source": [
    "\n",
    "%matplotlib inline\n",
    "import matplotlib.pyplot as plt\n",
    "plt.rcParams[\"font.family\"] = 'Malgun Gothic'\n",
    "plt.rcParams[\"font.size\"] = 12\n",
    "plt.rcParams[\"figure.figsize\"] = (16, 6)\n",
    "\n",
    "# 대략적인 구간 확인: 1층 이하, 1 ~ 25층, 26층 ~ 49층, 50층 이상\n",
    "df.groupby(['floor'])['transaction_real_price'].mean().plot(kind = 'bar')"
   ]
  },
  {
   "cell_type": "code",
   "execution_count": 17,
   "metadata": {},
   "outputs": [],
   "source": [
    "# 층 수준을 생성한 뒤, 차이를 봄\n",
    "def floor_level_converter(x):\n",
    "    if x <= 15:\n",
    "        return \"low\"\n",
    "    elif x <= 25:\n",
    "        return \"middle\"\n",
    "    elif x <= 51:\n",
    "        return \"high\"    \n",
    "    else:\n",
    "        return \"very_high\"\n",
    "    \n",
    "df['floor_level'] = df['floor'].apply(floor_level_converter)"
   ]
  },
  {
   "cell_type": "code",
   "execution_count": 18,
   "metadata": {},
   "outputs": [
    {
     "data": {
      "text/plain": [
       "<AxesSubplot:title={'center':'transaction_real_price'}, xlabel='floor'>"
      ]
     },
     "execution_count": 18,
     "metadata": {},
     "output_type": "execute_result"
    },
    {
     "data": {
      "image/png": "[encoded data removed]",
      "text/plain": [
       "<Figure size 1152x432 with 1 Axes>"
      ]
     },
     "metadata": {
      "needs_background": "light"
     },
     "output_type": "display_data"
    }
   ],
   "source": [
    "# 저층 그룹에 아파트의 층에 따른 가격 분포 확인 => 층에 따른 차이가 크지 않음\n",
    "df.loc[df['floor_level'] == 'low'].boxplot(column = 'transaction_real_price', by = 'floor')"
   ]
  },
  {
   "cell_type": "code",
   "execution_count": 19,
   "metadata": {},
   "outputs": [
    {
     "data": {
      "text/plain": [
       "<AxesSubplot:title={'center':'transaction_real_price'}, xlabel='floor'>"
      ]
     },
     "execution_count": 19,
     "metadata": {},
     "output_type": "execute_result"
    },
    {
     "data": {
      "image/png": "[encoded data removed]",
      "text/plain": [
       "<Figure size 1152x432 with 1 Axes>"
      ]
     },
     "metadata": {
      "needs_background": "light"
     },
     "output_type": "display_data"
    }
   ],
   "source": [
    "# 중층 그룹에 아파트의 층에 따른 가격 분포 확인 => 층에 따른 차이가 크지 않음\n",
    "df.loc[df['floor_level'] == 'middle'].boxplot(column = 'transaction_real_price', by = 'floor')"
   ]
  },
  {
   "cell_type": "code",
   "execution_count": 20,
   "metadata": {},
   "outputs": [
    {
     "data": {
      "text/plain": [
       "<AxesSubplot:title={'center':'transaction_real_price'}, xlabel='floor'>"
      ]
     },
     "execution_count": 20,
     "metadata": {},
     "output_type": "execute_result"
    },
    {
     "data": {
      "image/png": "[encoded data removed]",
      "text/plain": [
       "<Figure size 1152x432 with 1 Axes>"
      ]
     },
     "metadata": {
      "needs_background": "light"
     },
     "output_type": "display_data"
    }
   ],
   "source": [
    "# 고층 그룹에 아파트의 층에 따른 가격 분포 확인 => 층에 따른 차이가 크지 않음\n",
    "df.loc[df['floor_level'] == 'high'].boxplot(column = 'transaction_real_price', by = 'floor')"
   ]
  },
  {
   "cell_type": "code",
   "execution_count": 21,
   "metadata": {},
   "outputs": [
    {
     "data": {
      "text/plain": [
       "<AxesSubplot:title={'center':'transaction_real_price'}, xlabel='floor'>"
      ]
     },
     "execution_count": 21,
     "metadata": {},
     "output_type": "execute_result"
    },
    {
     "data": {
      "image/png": "[encoded data removed]",
      "text/plain": [
       "<Figure size 1152x432 with 1 Axes>"
      ]
     },
     "metadata": {
      "needs_background": "light"
     },
     "output_type": "display_data"
    }
   ],
   "source": [
    "# 초고층 그룹에 아파트의 층에 따른 가격 분포 확인 => 층이 높으면 높을수록 가격이 더 오름 (단, 72층을 기준으로 그런 현상이 두드러짐)\n",
    "df.loc[df['floor_level'] == 'very_high'].boxplot(column = 'transaction_real_price', by = 'floor')\n",
    "\n",
    "# 결론: floor_level 변수는 유의하나, floor 변수는 초고층에서만 유의\n",
    "# 따라서 very high를 세분화하거나, floor_level 변수와 floor 변수를 같이 사용하고 교호작용을 고려할 수 있는 트리 계열의 모델 사용이 적합\n",
    "# 여기서는 very high를 세분화하기로 결정"
   ]
  },
  {
   "cell_type": "code",
   "execution_count": 22,
   "metadata": {},
   "outputs": [],
   "source": [
    "# 층 수준을 생성한 뒤, 차이를 봄\n",
    "def floor_level_converter(x):\n",
    "    if x <= 15:\n",
    "        return \"low\"\n",
    "    elif x <= 25:\n",
    "        return \"middle\"\n",
    "    elif x <= 51:\n",
    "        return \"high\"    \n",
    "    elif x <= 71: # 새로운 조건 추가\n",
    "        return \"very_high\"    \n",
    "    else:\n",
    "        return \"very_very_high\"   \n",
    "\n",
    "df['floor_level'] = df['floor'].apply(floor_level_converter)\n",
    "df.drop('floor', axis = 1, inplace = True)"
   ]
  },
  {
   "cell_type": "markdown",
   "metadata": {},
   "source": [
    "#### 시세 변수 추가\n",
    "- grouby 를 이용하여 city 변수와 시군구 변수에 따른 transaction_real_price의 평균을 구한 뒤, 이를 데이터에 부착하는 방식으로 구별_전체_평균_시세 변수를 추가함\n",
    "\n",
    "- city, 시군구, transaction_year 에 따른 transaction_real_price 의 평균과 개수(count)를 구하여, 이를 데이터에 부착하는 방식으로 구별_작년_평균_시세 와 구별_작년_거래량 변수를 추가함\n",
    "\n",
    "- apartment_id 에 따른 transaction_real_price의 평균을 구한 뒤, 이를 데이터에 부착하는 방식으로 아파트별_평균가격 변수를 추가함."
   ]
  },
  {
   "cell_type": "code",
   "execution_count": 23,
   "metadata": {},
   "outputs": [],
   "source": [
    "# 구별 전체 평균 시세 부착\n",
    "mean_price_per_gu = df.groupby(['city', '시군구'], as_index = False)['transaction_real_price'].mean()\n",
    "mean_price_per_gu.rename({'transaction_real_price':'구별_전체_평균_시세'}, axis = 1, inplace = True)\n",
    "df = pd.merge(df, mean_price_per_gu, on = ['city', '시군구']) "
   ]
  },
  {
   "cell_type": "code",
   "execution_count": 24,
   "metadata": {},
   "outputs": [],
   "source": [
    "# 구별 작년 시세 부착\n",
    "# price_per_gu_and_year 변수에 직접 수정을 하므로, df가 변경되는 것을 방지하기 위해, df.copy().groupby~를 사용\n",
    "price_per_gu_and_year = df.copy().groupby(['city', '시군구', 'transaction_year'], as_index = False)['transaction_real_price'].agg(['mean', 'count'])\n",
    "price_per_gu_and_year = price_per_gu_and_year.reset_index().rename({\"mean\":\"구별_작년_평균_시세\", \"count\":\"구별_작년_거래량\"}, axis = 1)\n",
    "\n",
    "price_per_gu_and_year['transaction_year'] += 1 # 작년것을 붙이기 위해, 1을 더함\n",
    "df = pd.merge(df, price_per_gu_and_year, on = ['city', '시군구', 'transaction_year'], how = 'left') # 작년 기록이 없어서 붙지 않는 것을 방지하기 위해, how = 'left'로 설정\n",
    "df['구별_작년_거래량'].fillna(0, inplace = True) # 구별 작년 거래 데이터가 없다는 것은, 구별 작년 거래량이 0이라는 이야기이므로 fillna(0)을 수행"
   ]
  },
  {
   "cell_type": "code",
   "execution_count": 25,
   "metadata": {},
   "outputs": [],
   "source": [
    "# 아파트별 평균 시세 부착\n",
    "price_per_aid = df.copy().groupby(['apartment_id'], as_index = False)['transaction_real_price'].mean()\n",
    "price_per_aid.rename({\"transaction_real_price\":\"아파트별_평균가격\"}, axis = 1, inplace = True)\n",
    "\n",
    "df = pd.merge(df, price_per_aid, on = ['apartment_id'])"
   ]
  },
  {
   "cell_type": "markdown",
   "metadata": {},
   "source": [
    "## 외부 데이터 부착"
   ]
  },
  {
   "cell_type": "markdown",
   "metadata": {},
   "source": [
    "#### 공원 데이터 추가\n",
    "- 공원 데이터를 park_df 라고 불러옴\n",
    "- park_df 의 park_exercise_facility 를 확인해보니, 너무 다양한 종류의 값이 있어 더미화를 하기에는 무리가 있음. 따라서 해당 변수를 결측인지 아닌지만 나타내는 변수로 변환\n",
    "- 동별로 유형에 따른 공원 수를 계산한 뒤, 데이터에 부착함.\n",
    "\n",
    "#### 어린이집 데이터 추가\n",
    "- 아래 두 개의 가설을 바탕으로, 구 및 유형별 어린이집 수와 케어 가능한 아이 수의 합계를 계산하여 데이터에 부착함\n",
    "1. 같은 어린이집이어도 종류가 다르면 아파트 가격에 다르게 영향을 줄 것이다.\n",
    "2. 아이가 있는 부모라면, 어린이집 수와 케어 가능한 아이의 수 등만 보고 아파트 구매를 결정하지, 각 어린이집에 CCTV 개수가 몇개인지 등까지 파악하지 않을 것이다.\n"
   ]
  },
  {
   "cell_type": "code",
   "execution_count": 26,
   "metadata": {},
   "outputs": [
    {
     "data": {
      "text/html": [
       "<div>\n",
       "<style scoped>\n",
       "    .dataframe tbody tr th:only-of-type {\n",
       "        vertical-align: middle;\n",
       "    }\n",
       "\n",
       "    .dataframe tbody tr th {\n",
       "        vertical-align: top;\n",
       "    }\n",
       "\n",
       "    .dataframe thead th {\n",
       "        text-align: right;\n",
       "    }\n",
       "</style>\n",
       "<table border=\"1\" class=\"dataframe\">\n",
       "  <thead>\n",
       "    <tr style=\"text-align: right;\">\n",
       "      <th></th>\n",
       "      <th>city</th>\n",
       "      <th>gu</th>\n",
       "      <th>dong</th>\n",
       "      <th>park_name</th>\n",
       "      <th>park_type</th>\n",
       "      <th>park_area</th>\n",
       "      <th>park_exercise_facility</th>\n",
       "      <th>park_entertainment_facility</th>\n",
       "      <th>park_benefit_facility</th>\n",
       "      <th>park_cultural_facitiy</th>\n",
       "      <th>park_facility_other</th>\n",
       "      <th>park_open_year</th>\n",
       "      <th>reference_date</th>\n",
       "    </tr>\n",
       "  </thead>\n",
       "  <tbody>\n",
       "    <tr>\n",
       "      <th>0</th>\n",
       "      <td>부산광역시</td>\n",
       "      <td>남구</td>\n",
       "      <td>대연동</td>\n",
       "      <td>대연공원</td>\n",
       "      <td>근린공원</td>\n",
       "      <td>55227.0</td>\n",
       "      <td>NaN</td>\n",
       "      <td>NaN</td>\n",
       "      <td>NaN</td>\n",
       "      <td>NaN</td>\n",
       "      <td>NaN</td>\n",
       "      <td>1944.0</td>\n",
       "      <td>2018-08-14</td>\n",
       "    </tr>\n",
       "    <tr>\n",
       "      <th>1</th>\n",
       "      <td>부산광역시</td>\n",
       "      <td>남구</td>\n",
       "      <td>대연동</td>\n",
       "      <td>당곡공원</td>\n",
       "      <td>역사공원</td>\n",
       "      <td>75465.0</td>\n",
       "      <td>NaN</td>\n",
       "      <td>NaN</td>\n",
       "      <td>NaN</td>\n",
       "      <td>NaN</td>\n",
       "      <td>NaN</td>\n",
       "      <td>1944.0</td>\n",
       "      <td>2018-08-14</td>\n",
       "    </tr>\n",
       "    <tr>\n",
       "      <th>2</th>\n",
       "      <td>부산광역시</td>\n",
       "      <td>남구</td>\n",
       "      <td>대연동</td>\n",
       "      <td>대일어린이공원</td>\n",
       "      <td>어린이공원</td>\n",
       "      <td>422.1</td>\n",
       "      <td>NaN</td>\n",
       "      <td>NaN</td>\n",
       "      <td>NaN</td>\n",
       "      <td>NaN</td>\n",
       "      <td>NaN</td>\n",
       "      <td>1965.0</td>\n",
       "      <td>2018-08-14</td>\n",
       "    </tr>\n",
       "    <tr>\n",
       "      <th>3</th>\n",
       "      <td>부산광역시</td>\n",
       "      <td>남구</td>\n",
       "      <td>대연동</td>\n",
       "      <td>못골어린이공원</td>\n",
       "      <td>어린이공원</td>\n",
       "      <td>499.8</td>\n",
       "      <td>NaN</td>\n",
       "      <td>NaN</td>\n",
       "      <td>NaN</td>\n",
       "      <td>NaN</td>\n",
       "      <td>NaN</td>\n",
       "      <td>1968.0</td>\n",
       "      <td>2018-08-14</td>\n",
       "    </tr>\n",
       "    <tr>\n",
       "      <th>4</th>\n",
       "      <td>부산광역시</td>\n",
       "      <td>남구</td>\n",
       "      <td>용호동</td>\n",
       "      <td>솔밭어린이공원</td>\n",
       "      <td>어린이공원</td>\n",
       "      <td>1500.2</td>\n",
       "      <td>NaN</td>\n",
       "      <td>NaN</td>\n",
       "      <td>NaN</td>\n",
       "      <td>NaN</td>\n",
       "      <td>NaN</td>\n",
       "      <td>1970.0</td>\n",
       "      <td>2018-08-14</td>\n",
       "    </tr>\n",
       "  </tbody>\n",
       "</table>\n",
       "</div>"
      ],
      "text/plain": [
       "    city  gu dong park_name park_type  park_area park_exercise_facility  \\\n",
       "0  부산광역시  남구  대연동      대연공원      근린공원    55227.0                    NaN   \n",
       "1  부산광역시  남구  대연동      당곡공원      역사공원    75465.0                    NaN   \n",
       "2  부산광역시  남구  대연동   대일어린이공원     어린이공원      422.1                    NaN   \n",
       "3  부산광역시  남구  대연동   못골어린이공원     어린이공원      499.8                    NaN   \n",
       "4  부산광역시  남구  용호동   솔밭어린이공원     어린이공원     1500.2                    NaN   \n",
       "\n",
       "  park_entertainment_facility park_benefit_facility park_cultural_facitiy  \\\n",
       "0                         NaN                   NaN                   NaN   \n",
       "1                         NaN                   NaN                   NaN   \n",
       "2                         NaN                   NaN                   NaN   \n",
       "3                         NaN                   NaN                   NaN   \n",
       "4                         NaN                   NaN                   NaN   \n",
       "\n",
       "  park_facility_other  park_open_year reference_date  \n",
       "0                 NaN          1944.0     2018-08-14  \n",
       "1                 NaN          1944.0     2018-08-14  \n",
       "2                 NaN          1965.0     2018-08-14  \n",
       "3                 NaN          1968.0     2018-08-14  \n",
       "4                 NaN          1970.0     2018-08-14  "
      ]
     },
     "execution_count": 26,
     "metadata": {},
     "output_type": "execute_result"
    }
   ],
   "source": [
    "park_df = pd.read_csv(\"park.csv\")\n",
    "park_df.head()"
   ]
  },
  {
   "cell_type": "code",
   "execution_count": 27,
   "metadata": {},
   "outputs": [
    {
     "data": {
      "text/plain": [
       "array([nan, '게이트볼장', '풋살운동장', '배드민턴장', '야외헬스형운동기구 1개', '\"축구장,배드민턴장\"',\n",
       "       '\"배드민턴장,테니스장\"', '\"다목적운동장,농구장,배드민턴장\"', '다목적운동장', '\"배드민턴장, 게이트볼장\"',\n",
       "       '\"테니스장,배드민턴장,체력단련시설\"', 'x-game장', '\"축구장, 게이트볼장, 테니스장\"', '5', '3',\n",
       "       '7', '12', '10조12종', '0', '5조9종', '10', '11조14종', '6', '8', '9',\n",
       "       '4', '5조7종', '3조4종', '5조8종', '2조3종', '2', '11', '6조8종', '4조8종',\n",
       "       '사격장', '철봉 등 6종', '철봉 2', '운동기구 6종',\n",
       "       '\"배드민턴장, 족구장, 게이트볼장, 농구장 반코트\"', '테니스장', '\"배드민턴장, 지압보도\"',\n",
       "       '헬스형 운동기구 등', '족구장', '\"배드민턴장, 체력단련장\"',\n",
       "       '\"운동장, 축구장, 농구장, 배드민턴장, 골프연습장, 체력단련장\"',\n",
       "       '\"배드민턴장 2개소, 체력단련시설 6개소 36개\"',\n",
       "       '\"배드민턴장 1개소, 농구장 1개소, 체력단련시설 3개소 29개\"',\n",
       "       '\"배드민턴장 1개소, 농구정 1개소, 체력단련시설 1개소 7개\"', '체력단련시설 1개소 3개', '없음',\n",
       "       '체력단련시설 1개소 4개', '체력단련시설 1개소 6개', '체력단련시설 1개소 2개', '체력단련시설 1개소 7개',\n",
       "       '체력단련시설 1개소 5개', '체력단련시설 2개소 5개', '체력단련시설 1개소', '배드민턴장 게이트볼장 족구장',\n",
       "       '\"실내배드민턴장, 구민운동장, 다목적체육관, 골프연습장\"', '\"배드민턴장, 체력단련기구\"', '체력단련기구',\n",
       "       '\"농구장, 체력단련기구\"', '\"농구장, 배드민턴장, 체력단련기구\"',\n",
       "       '\"테니스장, 배드민턴장, 골프연습장, 체력단련기구\"', '\"운동장, 농구장\"',\n",
       "       '\"운동광장, 게이트볼, 궁도장, 구민운동장, 풋살경기장, 다목적 마당, 인라인스케이트장, 잔디운동장, 실내체육관, 체력단련장, 풋살구장, 농구장, 테니스장, 배드민턴장\"',\n",
       "       '\"골프연습장, 배드민턴장\"', '\"배트민턴, 궁도장\"', '배드민턴장1', '배드민턴장6',\n",
       "       '\"배드민턴장1, 게이트볼장1\"', '\"운동장1, 축구장2, 농구장2, 배구장1, 배드민턴장8, 기타4\"',\n",
       "       '\"농구장1, 배드민턴장4\"', '\"축구장1, 농구장1, 배드민턴장3\"', '\"배드민턴장1, 기타1\"',\n",
       "       '\"운동장1, 테니스장1, 축구장1, 배드민턴장2\"', '\"배드민턴장1, 게이트볼장1, 기타2\"', '배드민턴장2',\n",
       "       '\"체육관(실내 배드민턴장) 1개동, 배드민턴장 2개소, 체력단련시설 23기\"', '체력단련시설 8기',\n",
       "       '체력단련시설 4기', '\"운동장 1개소, 배드민턴장 3개소, 골프연습장 1개소, 체력단련시설 81기\"',\n",
       "       '체력단련시설 3기', '체력단련시설 2기', '\"배드민턴장 1개소, 체력단련시설 8기\"',\n",
       "       '\"농구장 1개소, 배드민턴장 1개소, 체력단련시설 30기\"', '\"배드민턴장 1개소, 체력단련시설 5기\"',\n",
       "       '\"배드민턴장 1개소, 체력단련시설 11기\"', '체력단련시설 6기',\n",
       "       '\"다목적운동장 1개소, 배드민턴장 1개소, 체력단련시설 8기\"', '농구장 1개소', '체력단련시설 5기',\n",
       "       '배드민턴장 1개소', '\"배드민턴장 1개소, 체력단련시설 3기\"', '30', '13', '40', '17',\n",
       "       '에어로빅장, 농구장', '테니스장, 씨름장, 농구장', '-', '궁도장', '미조성',\n",
       "       '운동장, 배드민턴장, 게이트볼장 등', '다목적 인조잔디마당', '테니스장, 배드민턴장 등', '농구대 2점',\n",
       "       '농구대 외 1종 2점', '농구대 1점', '체력단련시설 5점', '체력단련시설 6점', '체력단련시설 3점',\n",
       "       '체력단련시설 9점', '체력단련시설 2점', '체력단련시설 4점',\n",
       "       '운동장 1개소, 테니스장 1개소, 체력단력시설 95점',\n",
       "       '운동장 1개소, 테니스장 1개소, 수영장 1개소, 배드민턴 2개소, 게이트볼 1개소, 체력단력시설 56점',\n",
       "       '체력단련시설 12점', '체력단련시설 7점', '운동장3개소, 배드민턴 2개소, 체력단련시설 84점',\n",
       "       '배드민턴장 1개소, 체력단련시설 65점', '체력단련시설 8점', '체력단련시설 11점',\n",
       "       '운동장 1개소, 배드민턴 2개소, 체력단력시설 14점', '체력단련시설 15점'], dtype=object)"
      ]
     },
     "execution_count": 27,
     "metadata": {},
     "output_type": "execute_result"
    }
   ],
   "source": [
    "# 모든 값을 고려하는 것은 불가능하고, 그리 좋은 접근이 아닌 것으로 보임\n",
    "park_df['park_exercise_facility'].unique()"
   ]
  },
  {
   "cell_type": "code",
   "execution_count": 28,
   "metadata": {},
   "outputs": [
    {
     "data": {
      "text/plain": [
       "Index(['city', 'gu', 'dong', 'park_name', 'park_type', 'park_area',\n",
       "       'park_exercise_facility', 'park_entertainment_facility',\n",
       "       'park_benefit_facility', 'park_cultural_facitiy', 'park_facility_other',\n",
       "       'park_open_year', 'reference_date'],\n",
       "      dtype='object')"
      ]
     },
     "execution_count": 28,
     "metadata": {},
     "output_type": "execute_result"
    }
   ],
   "source": [
    "park_df.columns"
   ]
  },
  {
   "cell_type": "code",
   "execution_count": 29,
   "metadata": {},
   "outputs": [],
   "source": [
    "# 따라서 결측을 0으로, 결측이 아니면 1로 변환\n",
    "facility_cols = ['park_exercise_facility', 'park_entertainment_facility', 'park_benefit_facility', 'park_cultural_facitiy', 'park_facility_other']\n",
    "for col in facility_cols:\n",
    "    park_df.loc[park_df[col].notnull(), col] = 1\n",
    "    park_df.loc[park_df[col].isnull(), col] = 0"
   ]
  },
  {
   "cell_type": "code",
   "execution_count": 30,
   "metadata": {},
   "outputs": [
    {
     "data": {
      "text/html": [
       "<div>\n",
       "<style scoped>\n",
       "    .dataframe tbody tr th:only-of-type {\n",
       "        vertical-align: middle;\n",
       "    }\n",
       "\n",
       "    .dataframe tbody tr th {\n",
       "        vertical-align: top;\n",
       "    }\n",
       "\n",
       "    .dataframe thead th {\n",
       "        text-align: right;\n",
       "    }\n",
       "</style>\n",
       "<table border=\"1\" class=\"dataframe\">\n",
       "  <thead>\n",
       "    <tr style=\"text-align: right;\">\n",
       "      <th></th>\n",
       "      <th>city</th>\n",
       "      <th>gu</th>\n",
       "      <th>dong</th>\n",
       "      <th>park_exercise_facility</th>\n",
       "      <th>park_entertainment_facility</th>\n",
       "      <th>park_benefit_facility</th>\n",
       "      <th>park_cultural_facitiy</th>\n",
       "      <th>park_facility_other</th>\n",
       "    </tr>\n",
       "  </thead>\n",
       "  <tbody>\n",
       "    <tr>\n",
       "      <th>0</th>\n",
       "      <td>부산광역시</td>\n",
       "      <td>강서구</td>\n",
       "      <td>녹산동</td>\n",
       "      <td>1</td>\n",
       "      <td>0</td>\n",
       "      <td>1</td>\n",
       "      <td>0</td>\n",
       "      <td>1</td>\n",
       "    </tr>\n",
       "    <tr>\n",
       "      <th>1</th>\n",
       "      <td>부산광역시</td>\n",
       "      <td>강서구</td>\n",
       "      <td>대저1동</td>\n",
       "      <td>1</td>\n",
       "      <td>0</td>\n",
       "      <td>0</td>\n",
       "      <td>0</td>\n",
       "      <td>1</td>\n",
       "    </tr>\n",
       "    <tr>\n",
       "      <th>2</th>\n",
       "      <td>부산광역시</td>\n",
       "      <td>강서구</td>\n",
       "      <td>명지동</td>\n",
       "      <td>13</td>\n",
       "      <td>17</td>\n",
       "      <td>4</td>\n",
       "      <td>0</td>\n",
       "      <td>25</td>\n",
       "    </tr>\n",
       "    <tr>\n",
       "      <th>3</th>\n",
       "      <td>부산광역시</td>\n",
       "      <td>강서구</td>\n",
       "      <td>송정동</td>\n",
       "      <td>2</td>\n",
       "      <td>0</td>\n",
       "      <td>2</td>\n",
       "      <td>0</td>\n",
       "      <td>2</td>\n",
       "    </tr>\n",
       "    <tr>\n",
       "      <th>4</th>\n",
       "      <td>부산광역시</td>\n",
       "      <td>강서구</td>\n",
       "      <td>신호동</td>\n",
       "      <td>2</td>\n",
       "      <td>3</td>\n",
       "      <td>1</td>\n",
       "      <td>0</td>\n",
       "      <td>3</td>\n",
       "    </tr>\n",
       "  </tbody>\n",
       "</table>\n",
       "</div>"
      ],
      "text/plain": [
       "    city   gu  dong  park_exercise_facility  park_entertainment_facility  \\\n",
       "0  부산광역시  강서구   녹산동                       1                            0   \n",
       "1  부산광역시  강서구  대저1동                       1                            0   \n",
       "2  부산광역시  강서구   명지동                      13                           17   \n",
       "3  부산광역시  강서구   송정동                       2                            0   \n",
       "4  부산광역시  강서구   신호동                       2                            3   \n",
       "\n",
       "   park_benefit_facility  park_cultural_facitiy  park_facility_other  \n",
       "0                      1                      0                    1  \n",
       "1                      0                      0                    1  \n",
       "2                      4                      0                   25  \n",
       "3                      2                      0                    2  \n",
       "4                      1                      0                    3  "
      ]
     },
     "execution_count": 30,
     "metadata": {},
     "output_type": "execute_result"
    }
   ],
   "source": [
    "# 동별 공원 수 \n",
    "num_park_per_dong = park_df.groupby(['city', 'gu', 'dong'], as_index = False)['park_name'].count()\n",
    "num_park_per_dong.rename({\"park_name\":\"공원수\"}, axis = 1, inplace = True)\n",
    "\n",
    "# 동별 공원에 배치된 facilty 수\n",
    "num_facilty_per_dong = park_df.groupby(['city', 'gu', 'dong'], as_index = False)[facility_cols].sum()\n",
    "num_facilty_per_dong.head()"
   ]
  },
  {
   "cell_type": "code",
   "execution_count": 31,
   "metadata": {},
   "outputs": [
    {
     "name": "stderr",
     "output_type": "stream",
     "text": [
      "C:\\Users\\choiswonspec\\anaconda3\\lib\\site-packages\\pandas\\core\\frame.py:4317: SettingWithCopyWarning: \n",
      "A value is trying to be set on a copy of a slice from a DataFrame\n",
      "\n",
      "See the caveats in the documentation: https://pandas.pydata.org/pandas-docs/stable/user_guide/indexing.html#returning-a-view-versus-a-copy\n",
      "  return super().fillna(\n"
     ]
    }
   ],
   "source": [
    "# 공원 데이터 부착\n",
    "df = pd.merge(df, num_park_per_dong, left_on = ['city', '시군구', 'dong'], right_on = ['city', 'gu', 'dong'], how = 'left')\n",
    "df['공원수'].fillna(0, inplace = True)\n",
    "df.drop('gu', axis = 1, inplace = True)\n",
    "\n",
    "df = pd.merge(df, num_facilty_per_dong, left_on = ['city', '시군구', 'dong'], right_on = ['city', 'gu', 'dong'], how = 'left')\n",
    "df[facility_cols].fillna(0, inplace = True)\n",
    "df.drop('gu', axis = 1, inplace = True)"
   ]
  },
  {
   "cell_type": "markdown",
   "metadata": {},
   "source": [
    "#### 어린이집 데이터"
   ]
  },
  {
   "cell_type": "code",
   "execution_count": 32,
   "metadata": {},
   "outputs": [
    {
     "data": {
      "text/html": [
       "<div>\n",
       "<style scoped>\n",
       "    .dataframe tbody tr th:only-of-type {\n",
       "        vertical-align: middle;\n",
       "    }\n",
       "\n",
       "    .dataframe tbody tr th {\n",
       "        vertical-align: top;\n",
       "    }\n",
       "\n",
       "    .dataframe thead th {\n",
       "        text-align: right;\n",
       "    }\n",
       "</style>\n",
       "<table border=\"1\" class=\"dataframe\">\n",
       "  <thead>\n",
       "    <tr style=\"text-align: right;\">\n",
       "      <th></th>\n",
       "      <th>city</th>\n",
       "      <th>gu</th>\n",
       "      <th>day_care_name</th>\n",
       "      <th>day_care_type</th>\n",
       "      <th>day_care_baby_num</th>\n",
       "      <th>teacher_num</th>\n",
       "      <th>nursing_room_num</th>\n",
       "      <th>playground_num</th>\n",
       "      <th>CCTV_num</th>\n",
       "      <th>is_commuting_vehicle</th>\n",
       "      <th>reference_date</th>\n",
       "    </tr>\n",
       "  </thead>\n",
       "  <tbody>\n",
       "    <tr>\n",
       "      <th>0</th>\n",
       "      <td>서울특별시</td>\n",
       "      <td>서대문구</td>\n",
       "      <td>가람어린이집</td>\n",
       "      <td>국공립</td>\n",
       "      <td>70</td>\n",
       "      <td>11.0</td>\n",
       "      <td>5.0</td>\n",
       "      <td>1.0</td>\n",
       "      <td>7.0</td>\n",
       "      <td>N</td>\n",
       "      <td>2018-07-31</td>\n",
       "    </tr>\n",
       "    <tr>\n",
       "      <th>1</th>\n",
       "      <td>서울특별시</td>\n",
       "      <td>서대문구</td>\n",
       "      <td>가좌제일어린이집</td>\n",
       "      <td>국공립</td>\n",
       "      <td>88</td>\n",
       "      <td>22.0</td>\n",
       "      <td>5.0</td>\n",
       "      <td>2.0</td>\n",
       "      <td>10.0</td>\n",
       "      <td>N</td>\n",
       "      <td>2018-07-31</td>\n",
       "    </tr>\n",
       "    <tr>\n",
       "      <th>2</th>\n",
       "      <td>서울특별시</td>\n",
       "      <td>서대문구</td>\n",
       "      <td>경찰청어린이집</td>\n",
       "      <td>직장</td>\n",
       "      <td>90</td>\n",
       "      <td>23.0</td>\n",
       "      <td>6.0</td>\n",
       "      <td>1.0</td>\n",
       "      <td>32.0</td>\n",
       "      <td>N</td>\n",
       "      <td>2018-07-31</td>\n",
       "    </tr>\n",
       "    <tr>\n",
       "      <th>3</th>\n",
       "      <td>서울특별시</td>\n",
       "      <td>서대문구</td>\n",
       "      <td>고운햇살어린이집</td>\n",
       "      <td>가정</td>\n",
       "      <td>18</td>\n",
       "      <td>5.0</td>\n",
       "      <td>3.0</td>\n",
       "      <td>0.0</td>\n",
       "      <td>4.0</td>\n",
       "      <td>N</td>\n",
       "      <td>2018-07-31</td>\n",
       "    </tr>\n",
       "    <tr>\n",
       "      <th>4</th>\n",
       "      <td>서울특별시</td>\n",
       "      <td>서대문구</td>\n",
       "      <td>고은어린이집</td>\n",
       "      <td>국공립</td>\n",
       "      <td>93</td>\n",
       "      <td>20.0</td>\n",
       "      <td>7.0</td>\n",
       "      <td>2.0</td>\n",
       "      <td>10.0</td>\n",
       "      <td>N</td>\n",
       "      <td>2018-07-31</td>\n",
       "    </tr>\n",
       "  </tbody>\n",
       "</table>\n",
       "</div>"
      ],
      "text/plain": [
       "    city    gu day_care_name day_care_type  day_care_baby_num  teacher_num  \\\n",
       "0  서울특별시  서대문구        가람어린이집           국공립                 70         11.0   \n",
       "1  서울특별시  서대문구      가좌제일어린이집           국공립                 88         22.0   \n",
       "2  서울특별시  서대문구       경찰청어린이집            직장                 90         23.0   \n",
       "3  서울특별시  서대문구      고운햇살어린이집            가정                 18          5.0   \n",
       "4  서울특별시  서대문구        고은어린이집           국공립                 93         20.0   \n",
       "\n",
       "   nursing_room_num  playground_num  CCTV_num is_commuting_vehicle  \\\n",
       "0               5.0             1.0       7.0                    N   \n",
       "1               5.0             2.0      10.0                    N   \n",
       "2               6.0             1.0      32.0                    N   \n",
       "3               3.0             0.0       4.0                    N   \n",
       "4               7.0             2.0      10.0                    N   \n",
       "\n",
       "  reference_date  \n",
       "0     2018-07-31  \n",
       "1     2018-07-31  \n",
       "2     2018-07-31  \n",
       "3     2018-07-31  \n",
       "4     2018-07-31  "
      ]
     },
     "execution_count": 32,
     "metadata": {},
     "output_type": "execute_result"
    }
   ],
   "source": [
    "day_care_center_df = pd.read_csv('day_care_center.csv')\n",
    "day_care_center_df.head()\n",
    "\n",
    "# 가설: 같은 어린이집이어도 종류가 다르면 아파트 가격에 다르게 영향을 줄 것이다. 가령, 가정 어린이집보단 국공립어린이집이 더 인기가 좋을 것이다.\n",
    "# 또한, 아이가 있는 부모라면, 어린이집 수와 케어 가능한 아이의 수 등만 보고 아파트 구매를 결정하지, 각 어린이집에 CCTV 개수가 몇개인지 등까진 파악하지 않을 것이다.\n",
    "# 따라서 구 및 유형별 어린이집 수와 케어 가능한 아이 수만 집계"
   ]
  },
  {
   "cell_type": "code",
   "execution_count": 33,
   "metadata": {},
   "outputs": [],
   "source": [
    "# 불필요한 변수 제거\n",
    "day_care_center_df = day_care_center_df[['city', 'gu', 'day_care_type', 'day_care_baby_num']]"
   ]
  },
  {
   "cell_type": "code",
   "execution_count": 34,
   "metadata": {},
   "outputs": [
    {
     "data": {
      "text/html": [
       "<div>\n",
       "<style scoped>\n",
       "    .dataframe tbody tr th:only-of-type {\n",
       "        vertical-align: middle;\n",
       "    }\n",
       "\n",
       "    .dataframe tbody tr th {\n",
       "        vertical-align: top;\n",
       "    }\n",
       "\n",
       "    .dataframe thead th {\n",
       "        text-align: right;\n",
       "    }\n",
       "</style>\n",
       "<table border=\"1\" class=\"dataframe\">\n",
       "  <thead>\n",
       "    <tr style=\"text-align: right;\">\n",
       "      <th></th>\n",
       "      <th>city</th>\n",
       "      <th>gu</th>\n",
       "      <th>day_care_baby_num</th>\n",
       "      <th>어린이집유형_가정</th>\n",
       "      <th>어린이집유형_국공립</th>\n",
       "      <th>어린이집유형_민간</th>\n",
       "      <th>어린이집유형_법인·단체</th>\n",
       "      <th>어린이집유형_사회복지법인</th>\n",
       "      <th>어린이집유형_직장</th>\n",
       "      <th>어린이집유형_협동</th>\n",
       "    </tr>\n",
       "  </thead>\n",
       "  <tbody>\n",
       "    <tr>\n",
       "      <th>0</th>\n",
       "      <td>서울특별시</td>\n",
       "      <td>서대문구</td>\n",
       "      <td>70</td>\n",
       "      <td>0</td>\n",
       "      <td>1</td>\n",
       "      <td>0</td>\n",
       "      <td>0</td>\n",
       "      <td>0</td>\n",
       "      <td>0</td>\n",
       "      <td>0</td>\n",
       "    </tr>\n",
       "    <tr>\n",
       "      <th>1</th>\n",
       "      <td>서울특별시</td>\n",
       "      <td>서대문구</td>\n",
       "      <td>88</td>\n",
       "      <td>0</td>\n",
       "      <td>1</td>\n",
       "      <td>0</td>\n",
       "      <td>0</td>\n",
       "      <td>0</td>\n",
       "      <td>0</td>\n",
       "      <td>0</td>\n",
       "    </tr>\n",
       "    <tr>\n",
       "      <th>2</th>\n",
       "      <td>서울특별시</td>\n",
       "      <td>서대문구</td>\n",
       "      <td>90</td>\n",
       "      <td>0</td>\n",
       "      <td>0</td>\n",
       "      <td>0</td>\n",
       "      <td>0</td>\n",
       "      <td>0</td>\n",
       "      <td>1</td>\n",
       "      <td>0</td>\n",
       "    </tr>\n",
       "    <tr>\n",
       "      <th>3</th>\n",
       "      <td>서울특별시</td>\n",
       "      <td>서대문구</td>\n",
       "      <td>18</td>\n",
       "      <td>1</td>\n",
       "      <td>0</td>\n",
       "      <td>0</td>\n",
       "      <td>0</td>\n",
       "      <td>0</td>\n",
       "      <td>0</td>\n",
       "      <td>0</td>\n",
       "    </tr>\n",
       "    <tr>\n",
       "      <th>4</th>\n",
       "      <td>서울특별시</td>\n",
       "      <td>서대문구</td>\n",
       "      <td>93</td>\n",
       "      <td>0</td>\n",
       "      <td>1</td>\n",
       "      <td>0</td>\n",
       "      <td>0</td>\n",
       "      <td>0</td>\n",
       "      <td>0</td>\n",
       "      <td>0</td>\n",
       "    </tr>\n",
       "  </tbody>\n",
       "</table>\n",
       "</div>"
      ],
      "text/plain": [
       "    city    gu  day_care_baby_num  어린이집유형_가정  어린이집유형_국공립  어린이집유형_민간  \\\n",
       "0  서울특별시  서대문구                 70          0           1          0   \n",
       "1  서울특별시  서대문구                 88          0           1          0   \n",
       "2  서울특별시  서대문구                 90          0           0          0   \n",
       "3  서울특별시  서대문구                 18          1           0          0   \n",
       "4  서울특별시  서대문구                 93          0           1          0   \n",
       "\n",
       "   어린이집유형_법인·단체  어린이집유형_사회복지법인  어린이집유형_직장  어린이집유형_협동  \n",
       "0             0              0          0          0  \n",
       "1             0              0          0          0  \n",
       "2             0              0          1          0  \n",
       "3             0              0          0          0  \n",
       "4             0              0          0          0  "
      ]
     },
     "execution_count": 34,
     "metadata": {},
     "output_type": "execute_result"
    }
   ],
   "source": [
    "dummy_day_care_type = pd.get_dummies(day_care_center_df['day_care_type'], drop_first = False)\n",
    "dummy_day_care_type = dummy_day_care_type.add_prefix(\"어린이집유형_\")\n",
    "\n",
    "day_care_center_df = pd.concat([day_care_center_df, dummy_day_care_type], axis = 1)\n",
    "day_care_center_df.drop('day_care_type', axis = 1, inplace = True)\n",
    "day_care_center_df.head()"
   ]
  },
  {
   "cell_type": "code",
   "execution_count": 35,
   "metadata": {},
   "outputs": [
    {
     "data": {
      "text/html": [
       "<div>\n",
       "<style scoped>\n",
       "    .dataframe tbody tr th:only-of-type {\n",
       "        vertical-align: middle;\n",
       "    }\n",
       "\n",
       "    .dataframe tbody tr th {\n",
       "        vertical-align: top;\n",
       "    }\n",
       "\n",
       "    .dataframe thead th {\n",
       "        text-align: right;\n",
       "    }\n",
       "</style>\n",
       "<table border=\"1\" class=\"dataframe\">\n",
       "  <thead>\n",
       "    <tr style=\"text-align: right;\">\n",
       "      <th></th>\n",
       "      <th>city</th>\n",
       "      <th>gu</th>\n",
       "      <th>day_care_baby_num</th>\n",
       "      <th>어린이집유형_가정</th>\n",
       "      <th>어린이집유형_국공립</th>\n",
       "      <th>어린이집유형_민간</th>\n",
       "      <th>어린이집유형_법인·단체</th>\n",
       "      <th>어린이집유형_사회복지법인</th>\n",
       "      <th>어린이집유형_직장</th>\n",
       "      <th>어린이집유형_협동</th>\n",
       "    </tr>\n",
       "  </thead>\n",
       "  <tbody>\n",
       "    <tr>\n",
       "      <th>0</th>\n",
       "      <td>부산광역시</td>\n",
       "      <td>강서구</td>\n",
       "      <td>5312</td>\n",
       "      <td>71.0</td>\n",
       "      <td>6.0</td>\n",
       "      <td>35.0</td>\n",
       "      <td>0.0</td>\n",
       "      <td>5.0</td>\n",
       "      <td>5.0</td>\n",
       "      <td>1.0</td>\n",
       "    </tr>\n",
       "    <tr>\n",
       "      <th>1</th>\n",
       "      <td>부산광역시</td>\n",
       "      <td>금정구</td>\n",
       "      <td>5251</td>\n",
       "      <td>30.0</td>\n",
       "      <td>6.0</td>\n",
       "      <td>58.0</td>\n",
       "      <td>1.0</td>\n",
       "      <td>7.0</td>\n",
       "      <td>3.0</td>\n",
       "      <td>1.0</td>\n",
       "    </tr>\n",
       "    <tr>\n",
       "      <th>2</th>\n",
       "      <td>부산광역시</td>\n",
       "      <td>기장군</td>\n",
       "      <td>7689</td>\n",
       "      <td>98.0</td>\n",
       "      <td>13.0</td>\n",
       "      <td>56.0</td>\n",
       "      <td>0.0</td>\n",
       "      <td>5.0</td>\n",
       "      <td>3.0</td>\n",
       "      <td>3.0</td>\n",
       "    </tr>\n",
       "    <tr>\n",
       "      <th>3</th>\n",
       "      <td>부산광역시</td>\n",
       "      <td>남구</td>\n",
       "      <td>6676</td>\n",
       "      <td>65.0</td>\n",
       "      <td>12.0</td>\n",
       "      <td>50.0</td>\n",
       "      <td>2.0</td>\n",
       "      <td>6.0</td>\n",
       "      <td>6.0</td>\n",
       "      <td>2.0</td>\n",
       "    </tr>\n",
       "    <tr>\n",
       "      <th>4</th>\n",
       "      <td>부산광역시</td>\n",
       "      <td>동구</td>\n",
       "      <td>2214</td>\n",
       "      <td>8.0</td>\n",
       "      <td>9.0</td>\n",
       "      <td>11.0</td>\n",
       "      <td>2.0</td>\n",
       "      <td>2.0</td>\n",
       "      <td>7.0</td>\n",
       "      <td>0.0</td>\n",
       "    </tr>\n",
       "  </tbody>\n",
       "</table>\n",
       "</div>"
      ],
      "text/plain": [
       "    city   gu  day_care_baby_num  어린이집유형_가정  어린이집유형_국공립  어린이집유형_민간  \\\n",
       "0  부산광역시  강서구               5312       71.0         6.0       35.0   \n",
       "1  부산광역시  금정구               5251       30.0         6.0       58.0   \n",
       "2  부산광역시  기장군               7689       98.0        13.0       56.0   \n",
       "3  부산광역시   남구               6676       65.0        12.0       50.0   \n",
       "4  부산광역시   동구               2214        8.0         9.0       11.0   \n",
       "\n",
       "   어린이집유형_법인·단체  어린이집유형_사회복지법인  어린이집유형_직장  어린이집유형_협동  \n",
       "0           0.0            5.0        5.0        1.0  \n",
       "1           1.0            7.0        3.0        1.0  \n",
       "2           0.0            5.0        3.0        3.0  \n",
       "3           2.0            6.0        6.0        2.0  \n",
       "4           2.0            2.0        7.0        0.0  "
      ]
     },
     "execution_count": 35,
     "metadata": {},
     "output_type": "execute_result"
    }
   ],
   "source": [
    "aggregated_day_care_center_df = day_care_center_df.groupby(['city', 'gu'], as_index = False)[day_care_center_df.columns[2:]].sum()\n",
    "aggregated_day_care_center_df.head()"
   ]
  },
  {
   "cell_type": "code",
   "execution_count": 36,
   "metadata": {},
   "outputs": [
    {
     "name": "stderr",
     "output_type": "stream",
     "text": [
      "C:\\Users\\choiswonspec\\anaconda3\\lib\\site-packages\\pandas\\core\\frame.py:4317: SettingWithCopyWarning: \n",
      "A value is trying to be set on a copy of a slice from a DataFrame\n",
      "\n",
      "See the caveats in the documentation: https://pandas.pydata.org/pandas-docs/stable/user_guide/indexing.html#returning-a-view-versus-a-copy\n",
      "  return super().fillna(\n"
     ]
    }
   ],
   "source": [
    "# 어린이집 데이터 부착\n",
    "df = pd.merge(df, aggregated_day_care_center_df, left_on = ['city', '시군구'], right_on = ['city', 'gu'], how = 'left')\n",
    "df[aggregated_day_care_center_df.columns].fillna(0, inplace = True)\n",
    "df.drop('gu', axis = 1, inplace = True)"
   ]
  },
  {
   "cell_type": "markdown",
   "metadata": {},
   "source": [
    "### 모델 학습\n",
    "\n",
    "- 라벨 변수에는 transaction_real_price 를 할당\n",
    "- 특징 변수에는 라벨을 포함하여 불필요한 변수를 제거하여 정의\n",
    "- 또한, 학습 데이터와 평가 데이터를 분할하였으며, 학습 데이터의 크기가 (27012, 22)임을 확인\n",
    "- 데이터 크기와 변수 타입을 고려하여 트리 계열의 모델을 사용하기로 결정함\n"
   ]
  },
  {
   "cell_type": "code",
   "execution_count": 62,
   "metadata": {},
   "outputs": [],
   "source": [
    "X = df.drop(['apartment_id', 'city', 'dong', 'jibun', 'apt', 'transaction_date', 'transaction_real_price', '시군구', 'transaction_year', 'transaction_month','floor_level' ], axis = 1)\n",
    "Y = df['transaction_real_price']"
   ]
  },
  {
   "cell_type": "code",
   "execution_count": 64,
   "metadata": {},
   "outputs": [
    {
     "data": {
      "text/plain": [
       "(27012, 21)"
      ]
     },
     "execution_count": 64,
     "metadata": {},
     "output_type": "execute_result"
    }
   ],
   "source": [
    "from sklearn.model_selection import train_test_split\n",
    "Train_X, Test_X, Train_Y, Test_Y = train_test_split(X, Y)\n",
    "Train_X.shape # 샘플 대비 특징이 매우 적음 => 큰 부담없이 더미화 가능\n",
    "# 컬럼 타입이 섞여 있으므로, 트리 계열의 모델이 적절한 것으로 판단됨\n",
    "# 또한, 샘플이 충분히 많으므로 트리 뿐만 아니라 트리 기반의 앙상블도 적절할 것으로 보임\n",
    "# Tip. Decision Tree 계열의 모델은 상대적으로 전처리나 탐색의 부담이 제일 적은 모델임"
   ]
  },
  {
   "cell_type": "markdown",
   "metadata": {},
   "source": [
    "#### 더미화\n",
    "- 샘플 대비 특징이 많지 않고, 범주형 변수의 개수도 많지 않아 더미화를 하더라도 큰 문제가 없다고 판단\n",
    "- 따라서 floor_level 변수에 대한 더미화를 수행(단, 트리 계열의 모델을 쓰므로 모든 범주 값을 사용)"
   ]
  },
  {
   "cell_type": "code",
   "execution_count": 43,
   "metadata": {},
   "outputs": [
    {
     "name": "stderr",
     "output_type": "stream",
     "text": [
      "ERROR: Could not find a version that satisfies the requirement feature_engine.categorical_encoders (from versions: none)\n",
      "ERROR: No matching distribution found for feature_engine.categorical_encoders\n"
     ]
    }
   ],
   "source": [
    "#!pip install feature_engine.categorical_encoders"
   ]
  },
  {
   "cell_type": "code",
   "execution_count": 66,
   "metadata": {},
   "outputs": [
    {
     "data": {
      "text/plain": [
       "\"from feature_engine.encoding.categorical_encoders import OneHotCategoricalEncoder as OHE\\nfrom feature_engine.\\ndummy_model = OHE(variables = ['floor_level'],\\n                 drop_last = False)\\n\\ndummy_model.fit(Train_X)\\n\\nTrain_X = dummy_model.transform(Train_X)\\nTest_X = dummy_model.transform(Test_X)\""
      ]
     },
     "execution_count": 66,
     "metadata": {},
     "output_type": "execute_result"
    }
   ],
   "source": [
    "# 더미화\n",
    "'''from feature_engine.encoding.categorical_encoders import OneHotCategoricalEncoder as OHE\n",
    "from feature_engine.\n",
    "dummy_model = OHE(variables = ['floor_level'],\n",
    "                 drop_last = False)\n",
    "\n",
    "dummy_model.fit(Train_X)\n",
    "\n",
    "Train_X = dummy_model.transform(Train_X)\n",
    "Test_X = dummy_model.transform(Test_X)'''"
   ]
  },
  {
   "cell_type": "code",
   "execution_count": 67,
   "metadata": {},
   "outputs": [
    {
     "data": {
      "text/plain": [
       "'from sklearn.preprocessing import OneHotEncoder\\nonehot_encoder = OneHotEncoder()\\nTrain_X = onehot_encoder.fit_transform(Train_X)\\nTest_X = onehot_encoder.fit_transform(Train_X)'"
      ]
     },
     "execution_count": 67,
     "metadata": {},
     "output_type": "execute_result"
    }
   ],
   "source": [
    "'''from sklearn.preprocessing import OneHotEncoder\n",
    "onehot_encoder = OneHotEncoder()\n",
    "Train_X = onehot_encoder.fit_transform(Train_X)\n",
    "Test_X = onehot_encoder.fit_transform(Train_X)'''"
   ]
  },
  {
   "cell_type": "markdown",
   "metadata": {},
   "source": [
    "#### 변수 부착 과정에서 생성된 결측 대체\n",
    "- 원 데이터에는 결측이 없으나 과거 거래와 관련된 변수를 부착하는 과정에서 과거가 없는 데이터에 대한 결측이 생성되었음\n",
    "- 또한, 이들 결측이 발생한 변수는 모두 연속형이므로 평균을 기반으로 대체함."
   ]
  },
  {
   "cell_type": "code",
   "execution_count": 68,
   "metadata": {},
   "outputs": [],
   "source": [
    "\n",
    "from sklearn.impute import SimpleImputer as SI\n",
    "imputer = SI().fit(Train_X)\n",
    "Train_X = pd.DataFrame(imputer.transform(Train_X), columns = Train_X.columns)\n",
    "Test_X = pd.DataFrame(imputer.transform(Test_X), columns = Test_X.columns)"
   ]
  },
  {
   "cell_type": "code",
   "execution_count": 50,
   "metadata": {},
   "outputs": [
    {
     "name": "stdout",
     "output_type": "stream",
     "text": [
      "Collecting xgboost\n",
      "  Downloading xgboost-1.4.2-py3-none-win_amd64.whl (97.8 MB)\n",
      "Requirement already satisfied: scipy in c:\\users\\choiswonspec\\anaconda3\\lib\\site-packages (from xgboost) (1.5.2)\n",
      "Requirement already satisfied: numpy in c:\\users\\choiswonspec\\anaconda3\\lib\\site-packages (from xgboost) (1.19.2)\n",
      "Installing collected packages: xgboost\n",
      "Successfully installed xgboost-1.4.2\n"
     ]
    }
   ],
   "source": [
    "!pip install xgboost"
   ]
  },
  {
   "cell_type": "code",
   "execution_count": 52,
   "metadata": {},
   "outputs": [
    {
     "name": "stdout",
     "output_type": "stream",
     "text": [
      "Collecting lightgbm\n",
      "  Downloading lightgbm-3.2.1-py3-none-win_amd64.whl (1.0 MB)\n",
      "Requirement already satisfied: scikit-learn!=0.22.0 in c:\\users\\choiswonspec\\anaconda3\\lib\\site-packages (from lightgbm) (0.23.2)\n",
      "Requirement already satisfied: scipy in c:\\users\\choiswonspec\\anaconda3\\lib\\site-packages (from lightgbm) (1.5.2)\n",
      "Requirement already satisfied: numpy in c:\\users\\choiswonspec\\anaconda3\\lib\\site-packages (from lightgbm) (1.19.2)\n",
      "Requirement already satisfied: wheel in c:\\users\\choiswonspec\\anaconda3\\lib\\site-packages (from lightgbm) (0.35.1)\n",
      "Requirement already satisfied: joblib>=0.11 in c:\\users\\choiswonspec\\anaconda3\\lib\\site-packages (from scikit-learn!=0.22.0->lightgbm) (0.17.0)\n",
      "Requirement already satisfied: threadpoolctl>=2.0.0 in c:\\users\\choiswonspec\\anaconda3\\lib\\site-packages (from scikit-learn!=0.22.0->lightgbm) (2.1.0)\n",
      "Installing collected packages: lightgbm\n",
      "Successfully installed lightgbm-3.2.1\n"
     ]
    }
   ],
   "source": [
    "!pip install lightgbm"
   ]
  },
  {
   "cell_type": "code",
   "execution_count": 69,
   "metadata": {},
   "outputs": [],
   "source": [
    "from sklearn.model_selection import ParameterGrid\n",
    "from sklearn.feature_selection import *\n",
    "from sklearn.ensemble import RandomForestRegressor as RFR\n",
    "from xgboost import XGBRegressor as XGB\n",
    "from lightgbm import LGBMRegressor as LGB"
   ]
  },
  {
   "cell_type": "code",
   "execution_count": 89,
   "metadata": {},
   "outputs": [
    {
     "data": {
      "text/plain": [
       "Index(['exclusive_use_area', 'age', 'Seoul', '구별_전체_평균_시세', '구별_작년_평균_시세',\n",
       "       '구별_작년_거래량', '아파트별_평균가격', '공원수', 'park_exercise_facility',\n",
       "       'park_entertainment_facility', 'park_benefit_facility',\n",
       "       'park_cultural_facitiy', 'park_facility_other', 'day_care_baby_num',\n",
       "       '어린이집유형_가정', '어린이집유형_국공립', '어린이집유형_민간', '어린이집유형_법인·단체', '어린이집유형_사회복지법인',\n",
       "       '어린이집유형_직장', '어린이집유형_협동'],\n",
       "      dtype='object')"
      ]
     },
     "execution_count": 89,
     "metadata": {},
     "output_type": "execute_result"
    }
   ],
   "source": [
    "Train_X.columns"
   ]
  },
  {
   "cell_type": "markdown",
   "metadata": {},
   "source": [
    "#### Random Forest, XGBoost, LightGBM 및 특징 선택에 대한 파라미터 그리드 생성\n",
    "- 특징 선택은 20, 15, 10, 5\n",
    "- 특징 선택 기준은 상호 정보량"
   ]
  },
  {
   "cell_type": "code",
   "execution_count": 70,
   "metadata": {},
   "outputs": [],
   "source": [
    "model_parameter_dict = dict()\n",
    "RFR_parameter_grid = ParameterGrid({\"max_depth\":[3, 4, 5],\n",
    "                                   \"n_estimators\": [100, 200]})\n",
    "\n",
    "XL_parameter_grid = ParameterGrid({\"max_depth\":[3, 4, 5],\n",
    "                                  \"n_estimators\": [100, 200],\n",
    "                                  \"learning_rate\": [0.05, 0.1, 0.2]})\n",
    "\n",
    "model_parameter_dict[RFR] = RFR_parameter_grid\n",
    "model_parameter_dict[XGB] = XL_parameter_grid\n",
    "model_parameter_dict[LGB] = XL_parameter_grid"
   ]
  },
  {
   "cell_type": "code",
   "execution_count": 71,
   "metadata": {},
   "outputs": [
    {
     "name": "stdout",
     "output_type": "stream",
     "text": [
      "20 <class 'sklearn.ensemble._forest.RandomForestRegressor'> {'max_depth': 3, 'n_estimators': 100} 8683.257009006798\n",
      "iter_num:1/3888, score: 8683.26, best_score: 8683.26\n",
      "iter_num:2/3888, score: 8683.86, best_score: 8683.26\n",
      "20 <class 'sklearn.ensemble._forest.RandomForestRegressor'> {'max_depth': 4, 'n_estimators': 100} 7116.963547233939\n",
      "iter_num:3/3888, score: 7116.96, best_score: 7116.96\n",
      "iter_num:4/3888, score: 7129.07, best_score: 7116.96\n",
      "20 <class 'sklearn.ensemble._forest.RandomForestRegressor'> {'max_depth': 5, 'n_estimators': 100} 5874.84774198848\n",
      "iter_num:5/3888, score: 5874.85, best_score: 5874.85\n",
      "20 <class 'sklearn.ensemble._forest.RandomForestRegressor'> {'max_depth': 5, 'n_estimators': 200} 5874.02153014864\n",
      "iter_num:6/3888, score: 5874.02, best_score: 5874.02\n",
      "20 <class 'xgboost.sklearn.XGBRegressor'> {'learning_rate': 0.05, 'max_depth': 3, 'n_estimators': 100} 4284.427445332456\n",
      "iter_num:7/3888, score: 4284.43, best_score: 4284.43\n",
      "20 <class 'xgboost.sklearn.XGBRegressor'> {'learning_rate': 0.05, 'max_depth': 3, 'n_estimators': 200} 3720.6208235792774\n",
      "iter_num:8/3888, score: 3720.62, best_score: 3720.62\n",
      "iter_num:9/3888, score: 3732.9, best_score: 3720.62\n",
      "20 <class 'xgboost.sklearn.XGBRegressor'> {'learning_rate': 0.05, 'max_depth': 4, 'n_estimators': 200} 3363.839763598991\n",
      "iter_num:10/3888, score: 3363.84, best_score: 3363.84\n",
      "iter_num:11/3888, score: 3416.75, best_score: 3363.84\n",
      "20 <class 'xgboost.sklearn.XGBRegressor'> {'learning_rate': 0.05, 'max_depth': 5, 'n_estimators': 200} 3200.4800210323187\n",
      "iter_num:12/3888, score: 3200.48, best_score: 3200.48\n",
      "iter_num:13/3888, score: 3703.44, best_score: 3200.48\n",
      "iter_num:14/3888, score: 3387.79, best_score: 3200.48\n",
      "iter_num:15/3888, score: 3377.99, best_score: 3200.48\n",
      "20 <class 'xgboost.sklearn.XGBRegressor'> {'learning_rate': 0.1, 'max_depth': 4, 'n_estimators': 200} 3156.3827667304113\n",
      "iter_num:16/3888, score: 3156.38, best_score: 3156.38\n",
      "iter_num:17/3888, score: 3187.19, best_score: 3156.38\n",
      "20 <class 'xgboost.sklearn.XGBRegressor'> {'learning_rate': 0.1, 'max_depth': 5, 'n_estimators': 200} 3060.8618303974276\n",
      "iter_num:18/3888, score: 3060.86, best_score: 3060.86\n",
      "iter_num:19/3888, score: 3406.97, best_score: 3060.86\n",
      "iter_num:20/3888, score: 3205.78, best_score: 3060.86\n",
      "iter_num:21/3888, score: 3156.84, best_score: 3060.86\n",
      "20 <class 'xgboost.sklearn.XGBRegressor'> {'learning_rate': 0.2, 'max_depth': 4, 'n_estimators': 200} 3040.363527342882\n",
      "iter_num:22/3888, score: 3040.36, best_score: 3040.36\n",
      "iter_num:23/3888, score: 3052.31, best_score: 3040.36\n",
      "20 <class 'xgboost.sklearn.XGBRegressor'> {'learning_rate': 0.2, 'max_depth': 5, 'n_estimators': 200} 2994.9722684557732\n",
      "iter_num:24/3888, score: 2994.97, best_score: 2994.97\n",
      "iter_num:25/3888, score: 4329.63, best_score: 2994.97\n",
      "iter_num:26/3888, score: 3743.39, best_score: 2994.97\n",
      "iter_num:27/3888, score: 3757.83, best_score: 2994.97\n",
      "iter_num:28/3888, score: 3363.33, best_score: 2994.97\n",
      "iter_num:29/3888, score: 3465.85, best_score: 2994.97\n",
      "iter_num:30/3888, score: 3247.41, best_score: 2994.97\n",
      "iter_num:31/3888, score: 3725.22, best_score: 2994.97\n",
      "iter_num:32/3888, score: 3417.04, best_score: 2994.97\n",
      "iter_num:33/3888, score: 3364.91, best_score: 2994.97\n",
      "iter_num:34/3888, score: 3202.97, best_score: 2994.97\n",
      "iter_num:35/3888, score: 3226.78, best_score: 2994.97\n",
      "iter_num:36/3888, score: 3109.79, best_score: 2994.97\n",
      "iter_num:37/3888, score: 3431.91, best_score: 2994.97\n",
      "iter_num:38/3888, score: 3221.95, best_score: 2994.97\n",
      "iter_num:39/3888, score: 3221.2, best_score: 2994.97\n",
      "iter_num:40/3888, score: 3113.04, best_score: 2994.97\n",
      "iter_num:41/3888, score: 3135.38, best_score: 2994.97\n",
      "iter_num:42/3888, score: 3043.22, best_score: 2994.97\n",
      "iter_num:43/3888, score: 8704.42, best_score: 2994.97\n",
      "iter_num:44/3888, score: 8716.8, best_score: 2994.97\n",
      "iter_num:45/3888, score: 7155.28, best_score: 2994.97\n",
      "iter_num:46/3888, score: 7153.14, best_score: 2994.97\n",
      "iter_num:47/3888, score: 5925.59, best_score: 2994.97\n",
      "iter_num:48/3888, score: 5935.58, best_score: 2994.97\n",
      "iter_num:49/3888, score: 4284.3, best_score: 2994.97\n",
      "iter_num:50/3888, score: 3723.43, best_score: 2994.97\n",
      "iter_num:51/3888, score: 3710.78, best_score: 2994.97\n",
      "iter_num:52/3888, score: 3361.36, best_score: 2994.97\n",
      "iter_num:53/3888, score: 3404.07, best_score: 2994.97\n",
      "iter_num:54/3888, score: 3186.35, best_score: 2994.97\n",
      "iter_num:55/3888, score: 3715.7, best_score: 2994.97\n",
      "iter_num:56/3888, score: 3393.79, best_score: 2994.97\n",
      "iter_num:57/3888, score: 3371.78, best_score: 2994.97\n",
      "iter_num:58/3888, score: 3170.94, best_score: 2994.97\n",
      "iter_num:59/3888, score: 3187.19, best_score: 2994.97\n",
      "iter_num:60/3888, score: 3058.38, best_score: 2994.97\n",
      "iter_num:61/3888, score: 3403.37, best_score: 2994.97\n",
      "iter_num:62/3888, score: 3202.58, best_score: 2994.97\n",
      "iter_num:63/3888, score: 3154.63, best_score: 2994.97\n",
      "iter_num:64/3888, score: 3044.47, best_score: 2994.97\n",
      "iter_num:65/3888, score: 3061.08, best_score: 2994.97\n",
      "iter_num:66/3888, score: 2996.09, best_score: 2994.97\n",
      "iter_num:67/3888, score: 4329.63, best_score: 2994.97\n",
      "iter_num:68/3888, score: 3735.01, best_score: 2994.97\n",
      "iter_num:69/3888, score: 3767.91, best_score: 2994.97\n",
      "iter_num:70/3888, score: 3360.97, best_score: 2994.97\n",
      "iter_num:71/3888, score: 3464.33, best_score: 2994.97\n",
      "iter_num:72/3888, score: 3225.34, best_score: 2994.97\n",
      "iter_num:73/3888, score: 3736.77, best_score: 2994.97\n",
      "iter_num:74/3888, score: 3421.46, best_score: 2994.97\n",
      "iter_num:75/3888, score: 3376.02, best_score: 2994.97\n",
      "iter_num:76/3888, score: 3217.41, best_score: 2994.97\n",
      "iter_num:77/3888, score: 3240.05, best_score: 2994.97\n",
      "iter_num:78/3888, score: 3116.77, best_score: 2994.97\n",
      "iter_num:79/3888, score: 3406.13, best_score: 2994.97\n",
      "iter_num:80/3888, score: 3226.62, best_score: 2994.97\n",
      "iter_num:81/3888, score: 3239.86, best_score: 2994.97\n",
      "iter_num:82/3888, score: 3101.55, best_score: 2994.97\n",
      "iter_num:83/3888, score: 3121.87, best_score: 2994.97\n",
      "iter_num:84/3888, score: 3040.49, best_score: 2994.97\n",
      "iter_num:85/3888, score: 8637.97, best_score: 2994.97\n",
      "iter_num:86/3888, score: 8680.38, best_score: 2994.97\n",
      "iter_num:87/3888, score: 7182.05, best_score: 2994.97\n",
      "iter_num:88/3888, score: 7164.92, best_score: 2994.97\n",
      "iter_num:89/3888, score: 6059.57, best_score: 2994.97\n",
      "iter_num:90/3888, score: 6105.3, best_score: 2994.97\n",
      "iter_num:91/3888, score: 4733.6, best_score: 2994.97\n",
      "iter_num:92/3888, score: 4323.15, best_score: 2994.97\n",
      "iter_num:93/3888, score: 4309.24, best_score: 2994.97\n",
      "iter_num:94/3888, score: 4094.32, best_score: 2994.97\n",
      "iter_num:95/3888, score: 4119.52, best_score: 2994.97\n",
      "iter_num:96/3888, score: 3987.35, best_score: 2994.97\n",
      "iter_num:97/3888, score: 4344.82, best_score: 2994.97\n",
      "iter_num:98/3888, score: 4120.64, best_score: 2994.97\n",
      "iter_num:99/3888, score: 4110.82, best_score: 2994.97\n",
      "iter_num:100/3888, score: 3987.83, best_score: 2994.97\n",
      "iter_num:101/3888, score: 3984.88, best_score: 2994.97\n",
      "iter_num:102/3888, score: 3928.23, best_score: 2994.97\n",
      "iter_num:103/3888, score: 4109.36, best_score: 2994.97\n",
      "iter_num:104/3888, score: 3989.53, best_score: 2994.97\n",
      "iter_num:105/3888, score: 4002.32, best_score: 2994.97\n",
      "iter_num:106/3888, score: 3928.7, best_score: 2994.97\n",
      "iter_num:107/3888, score: 3925.23, best_score: 2994.97\n",
      "iter_num:108/3888, score: 3902.74, best_score: 2994.97\n",
      "iter_num:109/3888, score: 4753.46, best_score: 2994.97\n",
      "iter_num:110/3888, score: 4346.85, best_score: 2994.97\n",
      "iter_num:111/3888, score: 4378.27, best_score: 2994.97\n",
      "iter_num:112/3888, score: 4141.25, best_score: 2994.97\n",
      "iter_num:113/3888, score: 4185.99, best_score: 2994.97\n",
      "iter_num:114/3888, score: 4046.28, best_score: 2994.97\n",
      "iter_num:115/3888, score: 4360.54, best_score: 2994.97\n",
      "iter_num:116/3888, score: 4151.86, best_score: 2994.97\n",
      "iter_num:117/3888, score: 4130.17, best_score: 2994.97\n",
      "iter_num:118/3888, score: 4033.92, best_score: 2994.97\n",
      "iter_num:119/3888, score: 4036.0, best_score: 2994.97\n",
      "iter_num:120/3888, score: 3964.81, best_score: 2994.97\n",
      "iter_num:121/3888, score: 4149.19, best_score: 2994.97\n",
      "iter_num:122/3888, score: 4015.9, best_score: 2994.97\n",
      "iter_num:123/3888, score: 4036.8, best_score: 2994.97\n",
      "iter_num:124/3888, score: 3952.59, best_score: 2994.97\n",
      "iter_num:125/3888, score: 3966.16, best_score: 2994.97\n",
      "iter_num:126/3888, score: 3926.35, best_score: 2994.97\n",
      "iter_num:127/3888, score: 8728.82, best_score: 2994.97\n",
      "iter_num:128/3888, score: 8707.76, best_score: 2994.97\n",
      "iter_num:129/3888, score: 7173.37, best_score: 2994.97\n",
      "iter_num:130/3888, score: 7173.67, best_score: 2994.97\n",
      "iter_num:131/3888, score: 6130.73, best_score: 2994.97\n",
      "iter_num:132/3888, score: 6117.67, best_score: 2994.97\n",
      "iter_num:133/3888, score: 4940.64, best_score: 2994.97\n",
      "iter_num:134/3888, score: 4514.71, best_score: 2994.97\n",
      "iter_num:135/3888, score: 4494.25, best_score: 2994.97\n",
      "iter_num:136/3888, score: 4226.95, best_score: 2994.97\n",
      "iter_num:137/3888, score: 4210.7, best_score: 2994.97\n",
      "iter_num:138/3888, score: 4033.18, best_score: 2994.97\n",
      "iter_num:139/3888, score: 4523.37, best_score: 2994.97\n",
      "iter_num:140/3888, score: 4213.46, best_score: 2994.97\n",
      "iter_num:141/3888, score: 4236.52, best_score: 2994.97\n",
      "iter_num:142/3888, score: 4024.07, best_score: 2994.97\n",
      "iter_num:143/3888, score: 4028.08, best_score: 2994.97\n",
      "iter_num:144/3888, score: 3942.84, best_score: 2994.97\n",
      "iter_num:145/3888, score: 4203.59, best_score: 2994.97\n",
      "iter_num:146/3888, score: 4038.13, best_score: 2994.97\n",
      "iter_num:147/3888, score: 4030.52, best_score: 2994.97\n",
      "iter_num:148/3888, score: 3944.77, best_score: 2994.97\n",
      "iter_num:149/3888, score: 3941.97, best_score: 2994.97\n",
      "iter_num:150/3888, score: 3903.63, best_score: 2994.97\n",
      "iter_num:151/3888, score: 4979.11, best_score: 2994.97\n",
      "iter_num:152/3888, score: 4529.32, best_score: 2994.97\n",
      "iter_num:153/3888, score: 4549.95, best_score: 2994.97\n",
      "iter_num:154/3888, score: 4272.7, best_score: 2994.97\n",
      "iter_num:155/3888, score: 4268.92, best_score: 2994.97\n",
      "iter_num:156/3888, score: 4110.32, best_score: 2994.97\n",
      "iter_num:157/3888, score: 4543.99, best_score: 2994.97\n",
      "iter_num:158/3888, score: 4268.2, best_score: 2994.97\n",
      "iter_num:159/3888, score: 4247.43, best_score: 2994.97\n",
      "iter_num:160/3888, score: 4086.96, best_score: 2994.97\n",
      "iter_num:161/3888, score: 4123.26, best_score: 2994.97\n",
      "iter_num:162/3888, score: 4018.93, best_score: 2994.97\n",
      "iter_num:163/3888, score: 4245.79, best_score: 2994.97\n",
      "iter_num:164/3888, score: 4071.56, best_score: 2994.97\n",
      "iter_num:165/3888, score: 4105.57, best_score: 2994.97\n",
      "iter_num:166/3888, score: 3987.11, best_score: 2994.97\n",
      "iter_num:167/3888, score: 4012.38, best_score: 2994.97\n",
      "iter_num:168/3888, score: 3938.02, best_score: 2994.97\n"
     ]
    }
   ],
   "source": [
    "# 출력을 위한 max_iter_num 계산\n",
    "max_iter_num = len(range(20, 4, -5)) * len(model_parameter_dict) * len(XL_parameter_grid) ** 2\n",
    "           \n",
    "from sklearn.metrics import mean_absolute_error as MAE\n",
    "best_score = 9999999999\n",
    "iteration_num = 0\n",
    "for k in range(20, 4, -5): \n",
    "    selector = SelectKBest(mutual_info_regression, k = k).fit(Train_X, Train_Y)\n",
    "    s_Train_X = selector.transform(Train_X)\n",
    "    s_Test_X = selector.transform(Test_X)\n",
    "\n",
    "    \n",
    "    for model_func in model_parameter_dict.keys():\n",
    "        for parameter in model_parameter_dict[model_func]:\n",
    "            model = model_func(**parameter).fit(s_Train_X, Train_Y) # Light GBM은 DataFrame의 컬럼 이름에 대한 제약이 있어, ndarray를 입력으로 사용\n",
    "            pred_Y = model.predict(s_Test_X)\n",
    "            score = MAE(Test_Y, pred_Y)\n",
    "            \n",
    "            if score < best_score:\n",
    "                print(k, model_func, parameter, score)\n",
    "                best_score = score\n",
    "                best_model_func = model_func\n",
    "                best_parameter = parameter\n",
    "                best_selector = selector\n",
    "\n",
    "            iteration_num += 1\n",
    "            print(\"iter_num:{}/{}, score: {}, best_score: {}\".format(iteration_num, max_iter_num, round(score, 2), round(best_score, 2)))"
   ]
  },
  {
   "cell_type": "markdown",
   "metadata": {},
   "source": [
    "#### 모델 재학습\n",
    "- 학습 데이터와 평가 데이터를 concat 으로 평합하여 병합한 데이터를 사용하여 모델을 재학습"
   ]
  },
  {
   "cell_type": "code",
   "execution_count": 72,
   "metadata": {},
   "outputs": [],
   "source": [
    "final_X = pd.concat([Train_X, Test_X], axis = 0, ignore_index = True)\n",
    "final_Y = pd.concat([Train_Y, Test_Y], axis = 0, ignore_index = True)\n",
    "\n",
    "final_model = best_model_func(**best_parameter).fit(best_selector.transform(final_X), final_Y)"
   ]
  },
  {
   "cell_type": "markdown",
   "metadata": {},
   "source": [
    "### 파이프라인 구축\n",
    "- 새로운 데이터에 대한 예측을 수행하기 위해, 하나의 함수 형태로 파이프라인을 구축\n",
    "- 또한 파이프라인 사용에 필요한 모든 요소를 pickle을 사용하여 저장하고 불러옴\n",
    "- 파이프라인을 사용하여 새로운 데이터를 예측함."
   ]
  },
  {
   "cell_type": "code",
   "execution_count": 82,
   "metadata": {},
   "outputs": [],
   "source": [
    "def pipeline(new_data, ref_df, model, selector, mean_price_per_gu, num_park_per_dong, num_facilty_per_dong, aggregated_day_care_center_df, imputer):\n",
    "    ## 변수 변환 및 부착\n",
    "    new_data['dong'] = new_data['dong'].str.split(' ', expand = True).iloc[:, 0] # dong에 리가 붙어있으면 제거\n",
    "    \n",
    "    new_data = pd.merge(new_data, ref_df, left_on = ['city', 'dong'], right_on = ['시도', '법정동']) # 시군구 부착 \n",
    "    \n",
    "    new_data.drop(['시도', '법정동', 'transaction_id', 'addr_kr'], axis = 1, inplace = True) # 불필요한 변수 제거\n",
    "    \n",
    "    # age 변수 부착\n",
    "    new_data['age'] = 2018 - new_data['year_of_completion']\n",
    "    new_data.drop('year_of_completion', axis = 1, inplace = True)    \n",
    "    \n",
    "    # 거래 년월 부착\n",
    "    new_data['transaction_year_month'] = new_data['transaction_year_month'].astype(str)\n",
    "    new_data['transaction_year'] = new_data['transaction_year_month'].str[:4].astype(int)\n",
    "    new_data['transaction_month'] = new_data['transaction_year_month'].str[4:].astype(int)\n",
    "    new_data.drop('transaction_year_month', axis = 1, inplace = True)   \n",
    "\n",
    "    # Seoul 생성\n",
    "    new_data['Seoul'] = (new_data['city'] == \"서울특별시\").astype(int)    \n",
    "    \n",
    "    # floor_level 변수 생성\n",
    "    #new_data['floor_level'] = new_data['floor'].apply(floor_level_converter)\n",
    "    new_data.drop('floor', axis = 1, inplace = True)    \n",
    "    \n",
    "    # 시세 관련 변수 추가\n",
    "    new_data = pd.merge(new_data, mean_price_per_gu, on = ['city', '시군구'])\n",
    "    new_data = pd.merge(new_data, price_per_gu_and_year, on = ['city', '시군구', 'transaction_year'], how = 'left')\n",
    "    new_data['구별_작년_거래량'].fillna(0, inplace = True) # 구별 작년 거래 데이터가 없다는 것은, 구별 작년 거래량이 0이라는 이야기이므로 fillna(0)을 수행\n",
    "           \n",
    "    new_data = pd.merge(new_data, price_per_aid, on = ['apartment_id'], how = 'left')\n",
    "    \n",
    "    \n",
    "    # 공원 데이터 부착\n",
    "    new_data = pd.merge(new_data, num_park_per_dong, left_on = ['city', '시군구', 'dong'], right_on = ['city', 'gu', 'dong'], how = 'left')\n",
    "    new_data['공원수'].fillna(0, inplace = True)\n",
    "    new_data.drop('gu', axis = 1, inplace = True)\n",
    "\n",
    "    new_data = pd.merge(new_data, num_facilty_per_dong, left_on = ['city', '시군구', 'dong'], right_on = ['city', 'gu', 'dong'], how = 'left')\n",
    "    \n",
    "    facility_cols = ['park_exercise_facility', 'park_entertainment_facility', 'park_benefit_facility', 'park_cultural_facitiy', 'park_facility_other']\n",
    "    new_data[facility_cols].fillna(0, inplace = True)\n",
    "    new_data.drop('gu', axis = 1, inplace = True)    \n",
    "    \n",
    "    # 어린이집 데이터 부착\n",
    "    new_data = pd.merge(new_data, aggregated_day_care_center_df, left_on = ['city', '시군구'], right_on = ['city', 'gu'], how = 'left')\n",
    "    new_data[aggregated_day_care_center_df.columns].fillna(0, inplace = True)\n",
    "    new_data.drop('gu', axis = 1, inplace = True)\n",
    "    \n",
    "    # 특징 추출 ('transaction_real_price'는 drop 대상에서 제외)\n",
    "    X = new_data.drop(['apartment_id', 'city', 'dong', 'jibun', 'apt', 'transaction_date', '시군구', 'transaction_year', 'transaction_month'], axis = 1)\n",
    "\n",
    "    \n",
    "    # 결측 대체\n",
    "    X = imputer.transform(X)\n",
    "            \n",
    "    # 특징 선택\n",
    "    X = selector.transform(X)\n",
    "    \n",
    "    return model.predict(X)"
   ]
  },
  {
   "cell_type": "code",
   "execution_count": 83,
   "metadata": {},
   "outputs": [],
   "source": [
    "import pickle\n",
    "pipeline_element = {\"ref_df\": ref_df,\n",
    "                   \"model\":final_model,\n",
    "                   \"selector\":best_selector,\n",
    "                   \"mean_price_per_gu\":mean_price_per_gu,\n",
    "                   \"num_park_per_dong\":num_park_per_dong,\n",
    "                   \"num_facilty_per_dong\":num_facilty_per_dong,\n",
    "                   \"aggregated_day_care_center_df\":aggregated_day_care_center_df,\n",
    "                   \"imputer\":imputer,\n",
    "                   \"pipeline\":pipeline}\n",
    "\n",
    "with open(\"아파트실거래가예측모델.pckl\", \"wb\") as f:\n",
    "    pickle.dump(pipeline_element, f)"
   ]
  },
  {
   "cell_type": "code",
   "execution_count": 84,
   "metadata": {},
   "outputs": [],
   "source": [
    "with open(\"아파트실거래가예측모델.pckl\", \"rb\") as f:\n",
    "    pipeline_element = pickle.load(f)\n",
    "\n",
    "ref_df = pipeline_element[\"ref_df\"]\n",
    "model = pipeline_element[\"model\"]\n",
    "selector = pipeline_element[\"selector\"]                 \n",
    "mean_price_per_gu = pipeline_element[\"mean_price_per_gu\"]\n",
    "num_park_per_dong = pipeline_element[\"num_park_per_dong\"]\n",
    "num_facilty_per_dong = pipeline_element[\"num_facilty_per_dong\"]\n",
    "aggregated_day_care_center_df = pipeline_element[\"aggregated_day_care_center_df\"]\n",
    "imputer = pipeline_element[\"imputer\"]\n",
    "pipeline = pipeline_element[\"pipeline\"]"
   ]
  },
  {
   "cell_type": "code",
   "execution_count": 85,
   "metadata": {},
   "outputs": [
    {
     "data": {
      "text/html": [
       "<div>\n",
       "<style scoped>\n",
       "    .dataframe tbody tr th:only-of-type {\n",
       "        vertical-align: middle;\n",
       "    }\n",
       "\n",
       "    .dataframe tbody tr th {\n",
       "        vertical-align: top;\n",
       "    }\n",
       "\n",
       "    .dataframe thead th {\n",
       "        text-align: right;\n",
       "    }\n",
       "</style>\n",
       "<table border=\"1\" class=\"dataframe\">\n",
       "  <thead>\n",
       "    <tr style=\"text-align: right;\">\n",
       "      <th></th>\n",
       "      <th>transaction_id</th>\n",
       "      <th>apartment_id</th>\n",
       "      <th>city</th>\n",
       "      <th>dong</th>\n",
       "      <th>jibun</th>\n",
       "      <th>apt</th>\n",
       "      <th>addr_kr</th>\n",
       "      <th>exclusive_use_area</th>\n",
       "      <th>year_of_completion</th>\n",
       "      <th>transaction_year_month</th>\n",
       "      <th>transaction_date</th>\n",
       "      <th>floor</th>\n",
       "    </tr>\n",
       "  </thead>\n",
       "  <tbody>\n",
       "    <tr>\n",
       "      <th>0</th>\n",
       "      <td>1197195</td>\n",
       "      <td>4018</td>\n",
       "      <td>서울특별시</td>\n",
       "      <td>암사동</td>\n",
       "      <td>414-2</td>\n",
       "      <td>롯데캐슬퍼스트</td>\n",
       "      <td>암사동 414-2 롯데캐슬퍼스트</td>\n",
       "      <td>102.34</td>\n",
       "      <td>2008</td>\n",
       "      <td>201712</td>\n",
       "      <td>21~31</td>\n",
       "      <td>9</td>\n",
       "    </tr>\n",
       "    <tr>\n",
       "      <th>1</th>\n",
       "      <td>1190777</td>\n",
       "      <td>520</td>\n",
       "      <td>서울특별시</td>\n",
       "      <td>가락동</td>\n",
       "      <td>140</td>\n",
       "      <td>가락(1차)쌍용아파트</td>\n",
       "      <td>가락동 140 가락(1차)쌍용아파트</td>\n",
       "      <td>59.92</td>\n",
       "      <td>1997</td>\n",
       "      <td>201712</td>\n",
       "      <td>21~31</td>\n",
       "      <td>15</td>\n",
       "    </tr>\n",
       "    <tr>\n",
       "      <th>2</th>\n",
       "      <td>1197165</td>\n",
       "      <td>6467</td>\n",
       "      <td>서울특별시</td>\n",
       "      <td>암사동</td>\n",
       "      <td>509</td>\n",
       "      <td>선사현대아파트</td>\n",
       "      <td>암사동 509 선사현대아파트</td>\n",
       "      <td>59.64</td>\n",
       "      <td>2000</td>\n",
       "      <td>201712</td>\n",
       "      <td>21~31</td>\n",
       "      <td>6</td>\n",
       "    </tr>\n",
       "    <tr>\n",
       "      <th>3</th>\n",
       "      <td>1179572</td>\n",
       "      <td>731</td>\n",
       "      <td>서울특별시</td>\n",
       "      <td>개포동</td>\n",
       "      <td>189</td>\n",
       "      <td>개포주공 4단지</td>\n",
       "      <td>개포동 189 개포주공 4단지</td>\n",
       "      <td>50.67</td>\n",
       "      <td>1982</td>\n",
       "      <td>201707</td>\n",
       "      <td>1~10</td>\n",
       "      <td>3</td>\n",
       "    </tr>\n",
       "    <tr>\n",
       "      <th>4</th>\n",
       "      <td>1131476</td>\n",
       "      <td>5950</td>\n",
       "      <td>서울특별시</td>\n",
       "      <td>상계동</td>\n",
       "      <td>626</td>\n",
       "      <td>상계주공14(고층)</td>\n",
       "      <td>상계동 626 상계주공14(고층)</td>\n",
       "      <td>90.94</td>\n",
       "      <td>1989</td>\n",
       "      <td>201712</td>\n",
       "      <td>11~20</td>\n",
       "      <td>6</td>\n",
       "    </tr>\n",
       "  </tbody>\n",
       "</table>\n",
       "</div>"
      ],
      "text/plain": [
       "   transaction_id  apartment_id   city dong  jibun          apt  \\\n",
       "0         1197195          4018  서울특별시  암사동  414-2      롯데캐슬퍼스트   \n",
       "1         1190777           520  서울특별시  가락동    140  가락(1차)쌍용아파트   \n",
       "2         1197165          6467  서울특별시  암사동    509      선사현대아파트   \n",
       "3         1179572           731  서울특별시  개포동    189     개포주공 4단지   \n",
       "4         1131476          5950  서울특별시  상계동    626   상계주공14(고층)   \n",
       "\n",
       "               addr_kr  exclusive_use_area  year_of_completion  \\\n",
       "0    암사동 414-2 롯데캐슬퍼스트              102.34                2008   \n",
       "1  가락동 140 가락(1차)쌍용아파트               59.92                1997   \n",
       "2      암사동 509 선사현대아파트               59.64                2000   \n",
       "3     개포동 189 개포주공 4단지               50.67                1982   \n",
       "4   상계동 626 상계주공14(고층)               90.94                1989   \n",
       "\n",
       "   transaction_year_month transaction_date  floor  \n",
       "0                  201712            21~31      9  \n",
       "1                  201712            21~31     15  \n",
       "2                  201712            21~31      6  \n",
       "3                  201707             1~10      3  \n",
       "4                  201712            11~20      6  "
      ]
     },
     "execution_count": 85,
     "metadata": {},
     "output_type": "execute_result"
    }
   ],
   "source": [
    "test_df = pd.read_csv(\"sampled_test.csv\")\n",
    "test_df.head()"
   ]
  },
  {
   "cell_type": "code",
   "execution_count": 86,
   "metadata": {
    "scrolled": true
   },
   "outputs": [
    {
     "name": "stderr",
     "output_type": "stream",
     "text": [
      "C:\\Users\\choiswonspec\\anaconda3\\lib\\site-packages\\pandas\\core\\frame.py:4317: SettingWithCopyWarning: \n",
      "A value is trying to be set on a copy of a slice from a DataFrame\n",
      "\n",
      "See the caveats in the documentation: https://pandas.pydata.org/pandas-docs/stable/user_guide/indexing.html#returning-a-view-versus-a-copy\n",
      "  return super().fillna(\n"
     ]
    },
    {
     "data": {
      "text/plain": [
       "transaction_id\n",
       "1197195    77383.031250\n",
       "1190777    46110.101562\n",
       "1197165    73029.585938\n",
       "1179572    80497.312500\n",
       "1131476    68719.890625\n",
       "               ...     \n",
       "1162728    49560.980469\n",
       "1214400    58975.175781\n",
       "1210776    41117.828125\n",
       "1190462    41377.113281\n",
       "1190418    53294.183594\n",
       "Length: 389, dtype: float32"
      ]
     },
     "execution_count": 86,
     "metadata": {},
     "output_type": "execute_result"
    }
   ],
   "source": [
    "output = pipeline(test_df, ref_df, model, selector, mean_price_per_gu, num_park_per_dong, num_facilty_per_dong, aggregated_day_care_center_df, imputer)\n",
    "result = pd.Series(output, index = test_df['transaction_id'])\n",
    "result"
   ]
  }
 ],
 "metadata": {
  "kernelspec": {
   "display_name": "Python 3",
   "language": "python",
   "name": "python3"
  },
  "language_info": {
   "codemirror_mode": {
    "name": "ipython",
    "version": 3
   },
   "file_extension": ".py",
   "mimetype": "text/x-python",
   "name": "python",
   "nbconvert_exporter": "python",
   "pygments_lexer": "ipython3",
   "version": "3.8.5"
  }
 },
 "nbformat": 4,
 "nbformat_minor": 4
}
